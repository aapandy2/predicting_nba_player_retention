{
 "cells": [
  {
   "cell_type": "markdown",
   "id": "47c9d817-a78f-43bb-bec7-b6bcdef0fa16",
   "metadata": {},
   "source": [
    "# Compile all predictions for deployment\n",
    "\n",
    "In this notebook we generate predictioned classes and probabilities for the test seasons 2017-2023 and save them as a `csv` for deployment in the `streamlit` site."
   ]
  },
  {
   "cell_type": "code",
   "execution_count": 1,
   "id": "4a281496-874f-4c74-acb9-3d411a7e59e8",
   "metadata": {},
   "outputs": [],
   "source": [
    "import numpy as np\n",
    "import matplotlib.pyplot as plt\n",
    "import pandas as pd\n",
    "import seaborn as sns\n",
    "from sklearn.model_selection import train_test_split\n",
    "\n",
    "from HelperFunctions import *"
   ]
  },
  {
   "cell_type": "markdown",
   "id": "bd3d5c19",
   "metadata": {},
   "source": [
    "## Loading the full dataset"
   ]
  },
  {
   "cell_type": "code",
   "execution_count": 2,
   "id": "491c8284",
   "metadata": {},
   "outputs": [],
   "source": [
    "#load/scale data\n",
    "df        = pd.read_csv(\"full_data.csv\")\n",
    "df_scaled = ImputeAndScale(df.copy())\n",
    "features  = df_scaled.select_dtypes(include='number').columns.drop(['PLAYER_ID', 'SEASON_START', 'IN_LEAGUE_NEXT'])"
   ]
  },
  {
   "cell_type": "markdown",
   "id": "6f5a41bc",
   "metadata": {},
   "source": [
    "## Training the model\n",
    "\n",
    "Train the model and grab predictions; save them in `df_scaled` and output as `csv`."
   ]
  },
  {
   "cell_type": "code",
   "execution_count": 3,
   "id": "bb4bd867-a359-4050-98e7-dc56618ae807",
   "metadata": {},
   "outputs": [],
   "source": [
    "from imblearn.pipeline import Pipeline\n",
    "from imblearn.over_sampling import SMOTE\n",
    "from xgboost import XGBClassifier"
   ]
  },
  {
   "cell_type": "code",
   "execution_count": 4,
   "id": "7e732ed0-d7a5-48b6-a7dd-d82455e3c95d",
   "metadata": {},
   "outputs": [],
   "source": [
    "#train model on seasons < year and grab predictions on season = year\n",
    "for curr_season in range(2017, 2024):\n",
    "    df_train = df_scaled.loc[df_scaled.SEASON_START < curr_season]\n",
    "\n",
    "    #split training data into a train set and a calibration set\n",
    "    df_tt, df_cal = train_test_split(df_train, test_size=0.2, shuffle=True, \n",
    "                                     random_state=815, stratify=df_train.IN_LEAGUE_NEXT)\n",
    "\n",
    "    model = Pipeline([('smote', SMOTE(random_state=23)),\n",
    "                      ('xgb', XGBClassifier(n_estimators=350, learning_rate=0.005, random_state=206))])\n",
    "\n",
    "    model.fit(df_tt[features], df_tt.IN_LEAGUE_NEXT)\n",
    "\n",
    "    model_cal = CalibratedClassifierCV(model, cv=\"prefit\")\n",
    "    model_cal.fit(df_cal[features], df_cal.IN_LEAGUE_NEXT)\n",
    "\n",
    "    #save categorical prediction to dataframe\n",
    "    df_scaled.loc[df_scaled.SEASON_START==curr_season, \"PRED\"] = model.predict(\n",
    "        df_scaled.loc[df_scaled.SEASON_START==curr_season][features])\n",
    "    #save predicted probability to dataframe\n",
    "    df_scaled.loc[df_scaled.SEASON_START==curr_season, \"PROB\"] = model_cal.predict_proba(\n",
    "        df_scaled.loc[df_scaled.SEASON_START==curr_season][features])[:, 1]"
   ]
  },
  {
   "cell_type": "code",
   "execution_count": 5,
   "id": "df056452-17c5-48f5-8ae8-ba60e2ad37a9",
   "metadata": {},
   "outputs": [],
   "source": [
    "df_scaled.loc[df_scaled.SEASON_START >= 2017].to_csv(\"model_predictions.csv\", index=False)"
   ]
  },
  {
   "cell_type": "code",
   "execution_count": null,
   "id": "23888d92-18d3-474b-ac48-427c0603ae2c",
   "metadata": {},
   "outputs": [],
   "source": []
  }
 ],
 "metadata": {
  "kernelspec": {
   "display_name": "Python 3 (ipykernel)",
   "language": "python",
   "name": "python3"
  },
  "language_info": {
   "codemirror_mode": {
    "name": "ipython",
    "version": 3
   },
   "file_extension": ".py",
   "mimetype": "text/x-python",
   "name": "python",
   "nbconvert_exporter": "python",
   "pygments_lexer": "ipython3",
   "version": "3.12.5"
  }
 },
 "nbformat": 4,
 "nbformat_minor": 5
}
