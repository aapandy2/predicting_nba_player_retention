{
 "cells": [
  {
   "cell_type": "markdown",
   "id": "47c9d817-a78f-43bb-bec7-b6bcdef0fa16",
   "metadata": {},
   "source": [
    "# Future predictions\n",
    "\n",
    "In this notebook we train and calibrate our best-performing model using all available data to predict whether or not a given player will play in the NBA _at any point_ during the 2024-2025 season."
   ]
  },
  {
   "cell_type": "code",
   "execution_count": 1,
   "id": "4a281496-874f-4c74-acb9-3d411a7e59e8",
   "metadata": {},
   "outputs": [],
   "source": [
    "import numpy as np\n",
    "import matplotlib.pyplot as plt\n",
    "import pandas as pd\n",
    "import seaborn as sns\n",
    "from sklearn.model_selection import train_test_split\n",
    "import plotly.express as px\n",
    "\n",
    "from HelperFunctions import *"
   ]
  },
  {
   "cell_type": "markdown",
   "id": "bd3d5c19",
   "metadata": {},
   "source": [
    "## Loading the full dataset"
   ]
  },
  {
   "cell_type": "code",
   "execution_count": 2,
   "id": "491c8284",
   "metadata": {},
   "outputs": [],
   "source": [
    "#load/scale data\n",
    "df        = pd.read_csv(\"full_data.csv\")\n",
    "df_scaled = ImputeAndScale(df.copy())\n",
    "features  = df_scaled.select_dtypes(include='number').columns.drop(['PLAYER_ID', 'SEASON_START', 'IN_LEAGUE_NEXT'])"
   ]
  },
  {
   "cell_type": "code",
   "execution_count": 3,
   "id": "d6f5757b-2ae8-4a0a-8d83-0831eb87d7f4",
   "metadata": {},
   "outputs": [],
   "source": [
    "#make 2023-2024 season the test set\n",
    "df_train = df_scaled.loc[df_scaled.SEASON_START < 2017]\n",
    "df_test  = df_scaled.loc[df_scaled.SEASON_START >= 2017]"
   ]
  },
  {
   "cell_type": "code",
   "execution_count": 4,
   "id": "8d04f1e6-6b7a-42cf-82db-63579b977fc8",
   "metadata": {},
   "outputs": [],
   "source": [
    "#split training data into a train set and a calibration set\n",
    "df_tt, df_cal = train_test_split(df_train, test_size=0.2, shuffle=True, \n",
    "                                 random_state=815, stratify=df_train.IN_LEAGUE_NEXT)"
   ]
  },
  {
   "cell_type": "markdown",
   "id": "6f5a41bc",
   "metadata": {},
   "source": [
    "## Training the model"
   ]
  },
  {
   "cell_type": "code",
   "execution_count": 5,
   "id": "07b2a8a5",
   "metadata": {},
   "outputs": [
    {
     "data": {
      "text/html": [
       "<style>#sk-container-id-1 {\n",
       "  /* Definition of color scheme common for light and dark mode */\n",
       "  --sklearn-color-text: black;\n",
       "  --sklearn-color-line: gray;\n",
       "  /* Definition of color scheme for unfitted estimators */\n",
       "  --sklearn-color-unfitted-level-0: #fff5e6;\n",
       "  --sklearn-color-unfitted-level-1: #f6e4d2;\n",
       "  --sklearn-color-unfitted-level-2: #ffe0b3;\n",
       "  --sklearn-color-unfitted-level-3: chocolate;\n",
       "  /* Definition of color scheme for fitted estimators */\n",
       "  --sklearn-color-fitted-level-0: #f0f8ff;\n",
       "  --sklearn-color-fitted-level-1: #d4ebff;\n",
       "  --sklearn-color-fitted-level-2: #b3dbfd;\n",
       "  --sklearn-color-fitted-level-3: cornflowerblue;\n",
       "\n",
       "  /* Specific color for light theme */\n",
       "  --sklearn-color-text-on-default-background: var(--sg-text-color, var(--theme-code-foreground, var(--jp-content-font-color1, black)));\n",
       "  --sklearn-color-background: var(--sg-background-color, var(--theme-background, var(--jp-layout-color0, white)));\n",
       "  --sklearn-color-border-box: var(--sg-text-color, var(--theme-code-foreground, var(--jp-content-font-color1, black)));\n",
       "  --sklearn-color-icon: #696969;\n",
       "\n",
       "  @media (prefers-color-scheme: dark) {\n",
       "    /* Redefinition of color scheme for dark theme */\n",
       "    --sklearn-color-text-on-default-background: var(--sg-text-color, var(--theme-code-foreground, var(--jp-content-font-color1, white)));\n",
       "    --sklearn-color-background: var(--sg-background-color, var(--theme-background, var(--jp-layout-color0, #111)));\n",
       "    --sklearn-color-border-box: var(--sg-text-color, var(--theme-code-foreground, var(--jp-content-font-color1, white)));\n",
       "    --sklearn-color-icon: #878787;\n",
       "  }\n",
       "}\n",
       "\n",
       "#sk-container-id-1 {\n",
       "  color: var(--sklearn-color-text);\n",
       "}\n",
       "\n",
       "#sk-container-id-1 pre {\n",
       "  padding: 0;\n",
       "}\n",
       "\n",
       "#sk-container-id-1 input.sk-hidden--visually {\n",
       "  border: 0;\n",
       "  clip: rect(1px 1px 1px 1px);\n",
       "  clip: rect(1px, 1px, 1px, 1px);\n",
       "  height: 1px;\n",
       "  margin: -1px;\n",
       "  overflow: hidden;\n",
       "  padding: 0;\n",
       "  position: absolute;\n",
       "  width: 1px;\n",
       "}\n",
       "\n",
       "#sk-container-id-1 div.sk-dashed-wrapped {\n",
       "  border: 1px dashed var(--sklearn-color-line);\n",
       "  margin: 0 0.4em 0.5em 0.4em;\n",
       "  box-sizing: border-box;\n",
       "  padding-bottom: 0.4em;\n",
       "  background-color: var(--sklearn-color-background);\n",
       "}\n",
       "\n",
       "#sk-container-id-1 div.sk-container {\n",
       "  /* jupyter's `normalize.less` sets `[hidden] { display: none; }`\n",
       "     but bootstrap.min.css set `[hidden] { display: none !important; }`\n",
       "     so we also need the `!important` here to be able to override the\n",
       "     default hidden behavior on the sphinx rendered scikit-learn.org.\n",
       "     See: https://github.com/scikit-learn/scikit-learn/issues/21755 */\n",
       "  display: inline-block !important;\n",
       "  position: relative;\n",
       "}\n",
       "\n",
       "#sk-container-id-1 div.sk-text-repr-fallback {\n",
       "  display: none;\n",
       "}\n",
       "\n",
       "div.sk-parallel-item,\n",
       "div.sk-serial,\n",
       "div.sk-item {\n",
       "  /* draw centered vertical line to link estimators */\n",
       "  background-image: linear-gradient(var(--sklearn-color-text-on-default-background), var(--sklearn-color-text-on-default-background));\n",
       "  background-size: 2px 100%;\n",
       "  background-repeat: no-repeat;\n",
       "  background-position: center center;\n",
       "}\n",
       "\n",
       "/* Parallel-specific style estimator block */\n",
       "\n",
       "#sk-container-id-1 div.sk-parallel-item::after {\n",
       "  content: \"\";\n",
       "  width: 100%;\n",
       "  border-bottom: 2px solid var(--sklearn-color-text-on-default-background);\n",
       "  flex-grow: 1;\n",
       "}\n",
       "\n",
       "#sk-container-id-1 div.sk-parallel {\n",
       "  display: flex;\n",
       "  align-items: stretch;\n",
       "  justify-content: center;\n",
       "  background-color: var(--sklearn-color-background);\n",
       "  position: relative;\n",
       "}\n",
       "\n",
       "#sk-container-id-1 div.sk-parallel-item {\n",
       "  display: flex;\n",
       "  flex-direction: column;\n",
       "}\n",
       "\n",
       "#sk-container-id-1 div.sk-parallel-item:first-child::after {\n",
       "  align-self: flex-end;\n",
       "  width: 50%;\n",
       "}\n",
       "\n",
       "#sk-container-id-1 div.sk-parallel-item:last-child::after {\n",
       "  align-self: flex-start;\n",
       "  width: 50%;\n",
       "}\n",
       "\n",
       "#sk-container-id-1 div.sk-parallel-item:only-child::after {\n",
       "  width: 0;\n",
       "}\n",
       "\n",
       "/* Serial-specific style estimator block */\n",
       "\n",
       "#sk-container-id-1 div.sk-serial {\n",
       "  display: flex;\n",
       "  flex-direction: column;\n",
       "  align-items: center;\n",
       "  background-color: var(--sklearn-color-background);\n",
       "  padding-right: 1em;\n",
       "  padding-left: 1em;\n",
       "}\n",
       "\n",
       "\n",
       "/* Toggleable style: style used for estimator/Pipeline/ColumnTransformer box that is\n",
       "clickable and can be expanded/collapsed.\n",
       "- Pipeline and ColumnTransformer use this feature and define the default style\n",
       "- Estimators will overwrite some part of the style using the `sk-estimator` class\n",
       "*/\n",
       "\n",
       "/* Pipeline and ColumnTransformer style (default) */\n",
       "\n",
       "#sk-container-id-1 div.sk-toggleable {\n",
       "  /* Default theme specific background. It is overwritten whether we have a\n",
       "  specific estimator or a Pipeline/ColumnTransformer */\n",
       "  background-color: var(--sklearn-color-background);\n",
       "}\n",
       "\n",
       "/* Toggleable label */\n",
       "#sk-container-id-1 label.sk-toggleable__label {\n",
       "  cursor: pointer;\n",
       "  display: block;\n",
       "  width: 100%;\n",
       "  margin-bottom: 0;\n",
       "  padding: 0.5em;\n",
       "  box-sizing: border-box;\n",
       "  text-align: center;\n",
       "}\n",
       "\n",
       "#sk-container-id-1 label.sk-toggleable__label-arrow:before {\n",
       "  /* Arrow on the left of the label */\n",
       "  content: \"▸\";\n",
       "  float: left;\n",
       "  margin-right: 0.25em;\n",
       "  color: var(--sklearn-color-icon);\n",
       "}\n",
       "\n",
       "#sk-container-id-1 label.sk-toggleable__label-arrow:hover:before {\n",
       "  color: var(--sklearn-color-text);\n",
       "}\n",
       "\n",
       "/* Toggleable content - dropdown */\n",
       "\n",
       "#sk-container-id-1 div.sk-toggleable__content {\n",
       "  max-height: 0;\n",
       "  max-width: 0;\n",
       "  overflow: hidden;\n",
       "  text-align: left;\n",
       "  /* unfitted */\n",
       "  background-color: var(--sklearn-color-unfitted-level-0);\n",
       "}\n",
       "\n",
       "#sk-container-id-1 div.sk-toggleable__content.fitted {\n",
       "  /* fitted */\n",
       "  background-color: var(--sklearn-color-fitted-level-0);\n",
       "}\n",
       "\n",
       "#sk-container-id-1 div.sk-toggleable__content pre {\n",
       "  margin: 0.2em;\n",
       "  border-radius: 0.25em;\n",
       "  color: var(--sklearn-color-text);\n",
       "  /* unfitted */\n",
       "  background-color: var(--sklearn-color-unfitted-level-0);\n",
       "}\n",
       "\n",
       "#sk-container-id-1 div.sk-toggleable__content.fitted pre {\n",
       "  /* unfitted */\n",
       "  background-color: var(--sklearn-color-fitted-level-0);\n",
       "}\n",
       "\n",
       "#sk-container-id-1 input.sk-toggleable__control:checked~div.sk-toggleable__content {\n",
       "  /* Expand drop-down */\n",
       "  max-height: 200px;\n",
       "  max-width: 100%;\n",
       "  overflow: auto;\n",
       "}\n",
       "\n",
       "#sk-container-id-1 input.sk-toggleable__control:checked~label.sk-toggleable__label-arrow:before {\n",
       "  content: \"▾\";\n",
       "}\n",
       "\n",
       "/* Pipeline/ColumnTransformer-specific style */\n",
       "\n",
       "#sk-container-id-1 div.sk-label input.sk-toggleable__control:checked~label.sk-toggleable__label {\n",
       "  color: var(--sklearn-color-text);\n",
       "  background-color: var(--sklearn-color-unfitted-level-2);\n",
       "}\n",
       "\n",
       "#sk-container-id-1 div.sk-label.fitted input.sk-toggleable__control:checked~label.sk-toggleable__label {\n",
       "  background-color: var(--sklearn-color-fitted-level-2);\n",
       "}\n",
       "\n",
       "/* Estimator-specific style */\n",
       "\n",
       "/* Colorize estimator box */\n",
       "#sk-container-id-1 div.sk-estimator input.sk-toggleable__control:checked~label.sk-toggleable__label {\n",
       "  /* unfitted */\n",
       "  background-color: var(--sklearn-color-unfitted-level-2);\n",
       "}\n",
       "\n",
       "#sk-container-id-1 div.sk-estimator.fitted input.sk-toggleable__control:checked~label.sk-toggleable__label {\n",
       "  /* fitted */\n",
       "  background-color: var(--sklearn-color-fitted-level-2);\n",
       "}\n",
       "\n",
       "#sk-container-id-1 div.sk-label label.sk-toggleable__label,\n",
       "#sk-container-id-1 div.sk-label label {\n",
       "  /* The background is the default theme color */\n",
       "  color: var(--sklearn-color-text-on-default-background);\n",
       "}\n",
       "\n",
       "/* On hover, darken the color of the background */\n",
       "#sk-container-id-1 div.sk-label:hover label.sk-toggleable__label {\n",
       "  color: var(--sklearn-color-text);\n",
       "  background-color: var(--sklearn-color-unfitted-level-2);\n",
       "}\n",
       "\n",
       "/* Label box, darken color on hover, fitted */\n",
       "#sk-container-id-1 div.sk-label.fitted:hover label.sk-toggleable__label.fitted {\n",
       "  color: var(--sklearn-color-text);\n",
       "  background-color: var(--sklearn-color-fitted-level-2);\n",
       "}\n",
       "\n",
       "/* Estimator label */\n",
       "\n",
       "#sk-container-id-1 div.sk-label label {\n",
       "  font-family: monospace;\n",
       "  font-weight: bold;\n",
       "  display: inline-block;\n",
       "  line-height: 1.2em;\n",
       "}\n",
       "\n",
       "#sk-container-id-1 div.sk-label-container {\n",
       "  text-align: center;\n",
       "}\n",
       "\n",
       "/* Estimator-specific */\n",
       "#sk-container-id-1 div.sk-estimator {\n",
       "  font-family: monospace;\n",
       "  border: 1px dotted var(--sklearn-color-border-box);\n",
       "  border-radius: 0.25em;\n",
       "  box-sizing: border-box;\n",
       "  margin-bottom: 0.5em;\n",
       "  /* unfitted */\n",
       "  background-color: var(--sklearn-color-unfitted-level-0);\n",
       "}\n",
       "\n",
       "#sk-container-id-1 div.sk-estimator.fitted {\n",
       "  /* fitted */\n",
       "  background-color: var(--sklearn-color-fitted-level-0);\n",
       "}\n",
       "\n",
       "/* on hover */\n",
       "#sk-container-id-1 div.sk-estimator:hover {\n",
       "  /* unfitted */\n",
       "  background-color: var(--sklearn-color-unfitted-level-2);\n",
       "}\n",
       "\n",
       "#sk-container-id-1 div.sk-estimator.fitted:hover {\n",
       "  /* fitted */\n",
       "  background-color: var(--sklearn-color-fitted-level-2);\n",
       "}\n",
       "\n",
       "/* Specification for estimator info (e.g. \"i\" and \"?\") */\n",
       "\n",
       "/* Common style for \"i\" and \"?\" */\n",
       "\n",
       ".sk-estimator-doc-link,\n",
       "a:link.sk-estimator-doc-link,\n",
       "a:visited.sk-estimator-doc-link {\n",
       "  float: right;\n",
       "  font-size: smaller;\n",
       "  line-height: 1em;\n",
       "  font-family: monospace;\n",
       "  background-color: var(--sklearn-color-background);\n",
       "  border-radius: 1em;\n",
       "  height: 1em;\n",
       "  width: 1em;\n",
       "  text-decoration: none !important;\n",
       "  margin-left: 1ex;\n",
       "  /* unfitted */\n",
       "  border: var(--sklearn-color-unfitted-level-1) 1pt solid;\n",
       "  color: var(--sklearn-color-unfitted-level-1);\n",
       "}\n",
       "\n",
       ".sk-estimator-doc-link.fitted,\n",
       "a:link.sk-estimator-doc-link.fitted,\n",
       "a:visited.sk-estimator-doc-link.fitted {\n",
       "  /* fitted */\n",
       "  border: var(--sklearn-color-fitted-level-1) 1pt solid;\n",
       "  color: var(--sklearn-color-fitted-level-1);\n",
       "}\n",
       "\n",
       "/* On hover */\n",
       "div.sk-estimator:hover .sk-estimator-doc-link:hover,\n",
       ".sk-estimator-doc-link:hover,\n",
       "div.sk-label-container:hover .sk-estimator-doc-link:hover,\n",
       ".sk-estimator-doc-link:hover {\n",
       "  /* unfitted */\n",
       "  background-color: var(--sklearn-color-unfitted-level-3);\n",
       "  color: var(--sklearn-color-background);\n",
       "  text-decoration: none;\n",
       "}\n",
       "\n",
       "div.sk-estimator.fitted:hover .sk-estimator-doc-link.fitted:hover,\n",
       ".sk-estimator-doc-link.fitted:hover,\n",
       "div.sk-label-container:hover .sk-estimator-doc-link.fitted:hover,\n",
       ".sk-estimator-doc-link.fitted:hover {\n",
       "  /* fitted */\n",
       "  background-color: var(--sklearn-color-fitted-level-3);\n",
       "  color: var(--sklearn-color-background);\n",
       "  text-decoration: none;\n",
       "}\n",
       "\n",
       "/* Span, style for the box shown on hovering the info icon */\n",
       ".sk-estimator-doc-link span {\n",
       "  display: none;\n",
       "  z-index: 9999;\n",
       "  position: relative;\n",
       "  font-weight: normal;\n",
       "  right: .2ex;\n",
       "  padding: .5ex;\n",
       "  margin: .5ex;\n",
       "  width: min-content;\n",
       "  min-width: 20ex;\n",
       "  max-width: 50ex;\n",
       "  color: var(--sklearn-color-text);\n",
       "  box-shadow: 2pt 2pt 4pt #999;\n",
       "  /* unfitted */\n",
       "  background: var(--sklearn-color-unfitted-level-0);\n",
       "  border: .5pt solid var(--sklearn-color-unfitted-level-3);\n",
       "}\n",
       "\n",
       ".sk-estimator-doc-link.fitted span {\n",
       "  /* fitted */\n",
       "  background: var(--sklearn-color-fitted-level-0);\n",
       "  border: var(--sklearn-color-fitted-level-3);\n",
       "}\n",
       "\n",
       ".sk-estimator-doc-link:hover span {\n",
       "  display: block;\n",
       "}\n",
       "\n",
       "/* \"?\"-specific style due to the `<a>` HTML tag */\n",
       "\n",
       "#sk-container-id-1 a.estimator_doc_link {\n",
       "  float: right;\n",
       "  font-size: 1rem;\n",
       "  line-height: 1em;\n",
       "  font-family: monospace;\n",
       "  background-color: var(--sklearn-color-background);\n",
       "  border-radius: 1rem;\n",
       "  height: 1rem;\n",
       "  width: 1rem;\n",
       "  text-decoration: none;\n",
       "  /* unfitted */\n",
       "  color: var(--sklearn-color-unfitted-level-1);\n",
       "  border: var(--sklearn-color-unfitted-level-1) 1pt solid;\n",
       "}\n",
       "\n",
       "#sk-container-id-1 a.estimator_doc_link.fitted {\n",
       "  /* fitted */\n",
       "  border: var(--sklearn-color-fitted-level-1) 1pt solid;\n",
       "  color: var(--sklearn-color-fitted-level-1);\n",
       "}\n",
       "\n",
       "/* On hover */\n",
       "#sk-container-id-1 a.estimator_doc_link:hover {\n",
       "  /* unfitted */\n",
       "  background-color: var(--sklearn-color-unfitted-level-3);\n",
       "  color: var(--sklearn-color-background);\n",
       "  text-decoration: none;\n",
       "}\n",
       "\n",
       "#sk-container-id-1 a.estimator_doc_link.fitted:hover {\n",
       "  /* fitted */\n",
       "  background-color: var(--sklearn-color-fitted-level-3);\n",
       "}\n",
       "</style><div id=\"sk-container-id-1\" class=\"sk-top-container\"><div class=\"sk-text-repr-fallback\"><pre>CalibratedClassifierCV(cv=&#x27;prefit&#x27;,\n",
       "                       estimator=Pipeline(steps=[(&#x27;smote&#x27;,\n",
       "                                                  SMOTE(random_state=23)),\n",
       "                                                 (&#x27;xgb&#x27;,\n",
       "                                                  XGBClassifier(base_score=None,\n",
       "                                                                booster=None,\n",
       "                                                                callbacks=None,\n",
       "                                                                colsample_bylevel=None,\n",
       "                                                                colsample_bynode=None,\n",
       "                                                                colsample_bytree=None,\n",
       "                                                                device=None,\n",
       "                                                                early_stopping_rounds=None,\n",
       "                                                                enable_categorical=False,\n",
       "                                                                eval_metric=None,\n",
       "                                                                feature_types=None,\n",
       "                                                                gamma=None,\n",
       "                                                                grow_policy=None,\n",
       "                                                                importance_type=None,\n",
       "                                                                interaction_constraints=None,\n",
       "                                                                learning_rate=0.005,\n",
       "                                                                max_bin=None,\n",
       "                                                                max_cat_threshold=None,\n",
       "                                                                max_cat_to_onehot=None,\n",
       "                                                                max_delta_step=None,\n",
       "                                                                max_depth=None,\n",
       "                                                                max_leaves=None,\n",
       "                                                                min_child_weight=None,\n",
       "                                                                missing=nan,\n",
       "                                                                monotone_constraints=None,\n",
       "                                                                multi_strategy=None,\n",
       "                                                                n_estimators=350,\n",
       "                                                                n_jobs=None,\n",
       "                                                                num_parallel_tree=None,\n",
       "                                                                random_state=206, ...))]))</pre><b>In a Jupyter environment, please rerun this cell to show the HTML representation or trust the notebook. <br />On GitHub, the HTML representation is unable to render, please try loading this page with nbviewer.org.</b></div><div class=\"sk-container\" hidden><div class=\"sk-item sk-dashed-wrapped\"><div class=\"sk-label-container\"><div class=\"sk-label fitted sk-toggleable\"><input class=\"sk-toggleable__control sk-hidden--visually\" id=\"sk-estimator-id-1\" type=\"checkbox\" ><label for=\"sk-estimator-id-1\" class=\"sk-toggleable__label fitted sk-toggleable__label-arrow fitted\">&nbsp;&nbsp;CalibratedClassifierCV<a class=\"sk-estimator-doc-link fitted\" rel=\"noreferrer\" target=\"_blank\" href=\"https://scikit-learn.org/1.5/modules/generated/sklearn.calibration.CalibratedClassifierCV.html\">?<span>Documentation for CalibratedClassifierCV</span></a><span class=\"sk-estimator-doc-link fitted\">i<span>Fitted</span></span></label><div class=\"sk-toggleable__content fitted\"><pre>CalibratedClassifierCV(cv=&#x27;prefit&#x27;,\n",
       "                       estimator=Pipeline(steps=[(&#x27;smote&#x27;,\n",
       "                                                  SMOTE(random_state=23)),\n",
       "                                                 (&#x27;xgb&#x27;,\n",
       "                                                  XGBClassifier(base_score=None,\n",
       "                                                                booster=None,\n",
       "                                                                callbacks=None,\n",
       "                                                                colsample_bylevel=None,\n",
       "                                                                colsample_bynode=None,\n",
       "                                                                colsample_bytree=None,\n",
       "                                                                device=None,\n",
       "                                                                early_stopping_rounds=None,\n",
       "                                                                enable_categorical=False,\n",
       "                                                                eval_metric=None,\n",
       "                                                                feature_types=None,\n",
       "                                                                gamma=None,\n",
       "                                                                grow_policy=None,\n",
       "                                                                importance_type=None,\n",
       "                                                                interaction_constraints=None,\n",
       "                                                                learning_rate=0.005,\n",
       "                                                                max_bin=None,\n",
       "                                                                max_cat_threshold=None,\n",
       "                                                                max_cat_to_onehot=None,\n",
       "                                                                max_delta_step=None,\n",
       "                                                                max_depth=None,\n",
       "                                                                max_leaves=None,\n",
       "                                                                min_child_weight=None,\n",
       "                                                                missing=nan,\n",
       "                                                                monotone_constraints=None,\n",
       "                                                                multi_strategy=None,\n",
       "                                                                n_estimators=350,\n",
       "                                                                n_jobs=None,\n",
       "                                                                num_parallel_tree=None,\n",
       "                                                                random_state=206, ...))]))</pre></div> </div></div><div class=\"sk-parallel\"><div class=\"sk-parallel-item\"><div class=\"sk-item\"><div class=\"sk-label-container\"><div class=\"sk-label fitted sk-toggleable\"><input class=\"sk-toggleable__control sk-hidden--visually\" id=\"sk-estimator-id-2\" type=\"checkbox\" ><label for=\"sk-estimator-id-2\" class=\"sk-toggleable__label fitted sk-toggleable__label-arrow fitted\">estimator: Pipeline</label><div class=\"sk-toggleable__content fitted\"><pre>Pipeline(steps=[(&#x27;smote&#x27;, SMOTE(random_state=23)),\n",
       "                (&#x27;xgb&#x27;,\n",
       "                 XGBClassifier(base_score=None, booster=None, callbacks=None,\n",
       "                               colsample_bylevel=None, colsample_bynode=None,\n",
       "                               colsample_bytree=None, device=None,\n",
       "                               early_stopping_rounds=None,\n",
       "                               enable_categorical=False, eval_metric=None,\n",
       "                               feature_types=None, gamma=None, grow_policy=None,\n",
       "                               importance_type=None,\n",
       "                               interaction_constraints=None,\n",
       "                               learning_rate=0.005, max_bin=None,\n",
       "                               max_cat_threshold=None, max_cat_to_onehot=None,\n",
       "                               max_delta_step=None, max_depth=None,\n",
       "                               max_leaves=None, min_child_weight=None,\n",
       "                               missing=nan, monotone_constraints=None,\n",
       "                               multi_strategy=None, n_estimators=350,\n",
       "                               n_jobs=None, num_parallel_tree=None,\n",
       "                               random_state=206, ...))])</pre></div> </div></div><div class=\"sk-serial\"><div class=\"sk-item\"><div class=\"sk-serial\"><div class=\"sk-item\"><div class=\"sk-estimator fitted sk-toggleable\"><input class=\"sk-toggleable__control sk-hidden--visually\" id=\"sk-estimator-id-3\" type=\"checkbox\" ><label for=\"sk-estimator-id-3\" class=\"sk-toggleable__label fitted sk-toggleable__label-arrow fitted\">SMOTE</label><div class=\"sk-toggleable__content fitted\"><pre>SMOTE(random_state=23)</pre></div> </div></div><div class=\"sk-item\"><div class=\"sk-estimator fitted sk-toggleable\"><input class=\"sk-toggleable__control sk-hidden--visually\" id=\"sk-estimator-id-4\" type=\"checkbox\" ><label for=\"sk-estimator-id-4\" class=\"sk-toggleable__label fitted sk-toggleable__label-arrow fitted\">XGBClassifier</label><div class=\"sk-toggleable__content fitted\"><pre>XGBClassifier(base_score=None, booster=None, callbacks=None,\n",
       "              colsample_bylevel=None, colsample_bynode=None,\n",
       "              colsample_bytree=None, device=None, early_stopping_rounds=None,\n",
       "              enable_categorical=False, eval_metric=None, feature_types=None,\n",
       "              gamma=None, grow_policy=None, importance_type=None,\n",
       "              interaction_constraints=None, learning_rate=0.005, max_bin=None,\n",
       "              max_cat_threshold=None, max_cat_to_onehot=None,\n",
       "              max_delta_step=None, max_depth=None, max_leaves=None,\n",
       "              min_child_weight=None, missing=nan, monotone_constraints=None,\n",
       "              multi_strategy=None, n_estimators=350, n_jobs=None,\n",
       "              num_parallel_tree=None, random_state=206, ...)</pre></div> </div></div></div></div></div></div></div></div></div></div></div>"
      ],
      "text/plain": [
       "CalibratedClassifierCV(cv='prefit',\n",
       "                       estimator=Pipeline(steps=[('smote',\n",
       "                                                  SMOTE(random_state=23)),\n",
       "                                                 ('xgb',\n",
       "                                                  XGBClassifier(base_score=None,\n",
       "                                                                booster=None,\n",
       "                                                                callbacks=None,\n",
       "                                                                colsample_bylevel=None,\n",
       "                                                                colsample_bynode=None,\n",
       "                                                                colsample_bytree=None,\n",
       "                                                                device=None,\n",
       "                                                                early_stopping_rounds=None,\n",
       "                                                                enable_categorical=False,\n",
       "                                                                eval_metric=None,\n",
       "                                                                feature_types=None,\n",
       "                                                                gamma=None,\n",
       "                                                                grow_policy=None,\n",
       "                                                                importance_type=None,\n",
       "                                                                interaction_constraints=None,\n",
       "                                                                learning_rate=0.005,\n",
       "                                                                max_bin=None,\n",
       "                                                                max_cat_threshold=None,\n",
       "                                                                max_cat_to_onehot=None,\n",
       "                                                                max_delta_step=None,\n",
       "                                                                max_depth=None,\n",
       "                                                                max_leaves=None,\n",
       "                                                                min_child_weight=None,\n",
       "                                                                missing=nan,\n",
       "                                                                monotone_constraints=None,\n",
       "                                                                multi_strategy=None,\n",
       "                                                                n_estimators=350,\n",
       "                                                                n_jobs=None,\n",
       "                                                                num_parallel_tree=None,\n",
       "                                                                random_state=206, ...))]))"
      ]
     },
     "execution_count": 5,
     "metadata": {},
     "output_type": "execute_result"
    }
   ],
   "source": [
    "from imblearn.pipeline import Pipeline\n",
    "from imblearn.over_sampling import SMOTE\n",
    "from xgboost import XGBClassifier\n",
    "\n",
    "model = Pipeline([('smote', SMOTE(random_state=23)),\n",
    "                  ('xgb', XGBClassifier(n_estimators=350, learning_rate=0.005, random_state=206))])\n",
    "\n",
    "model.fit(df_tt[features], df_tt.IN_LEAGUE_NEXT)\n",
    "\n",
    "model_cal = CalibratedClassifierCV(model, cv=\"prefit\")\n",
    "model_cal.fit(df_cal[features], df_cal.IN_LEAGUE_NEXT)"
   ]
  },
  {
   "cell_type": "markdown",
   "id": "5d24d7ed-9acf-4655-8df0-72372becd7e5",
   "metadata": {},
   "source": [
    "## Visualize training data\n",
    "\n",
    "Make scatterplots with a choice of predictors on the x and y axes, and color the points based on `IN_LEAGUE_NEXT`."
   ]
  },
  {
   "cell_type": "code",
   "execution_count": 6,
   "id": "6e2da849-6823-4ac9-a663-bd93d6553306",
   "metadata": {},
   "outputs": [],
   "source": [
    "def visualize_train(x, y, year):\n",
    "    sns.scatterplot(data=df.loc[df.SEASON_START==year], x=x, y=y, hue=\"IN_LEAGUE_NEXT\", palette=[\"lightcoral\", \"black\"], marker='.')\n",
    "    plt.show()\n",
    "    return None"
   ]
  },
  {
   "cell_type": "code",
   "execution_count": 7,
   "id": "29ac7c61-3593-4f2b-a53c-b29ce56384e3",
   "metadata": {},
   "outputs": [
    {
     "data": {
      "image/png": "[encoded data removed]",
      "text/plain": [
       "<Figure size 640x480 with 1 Axes>"
      ]
     },
     "metadata": {},
     "output_type": "display_data"
    }
   ],
   "source": [
    "visualize_train(\"PTS\", \"TOV_PERCENT\", 2018)"
   ]
  },
  {
   "cell_type": "code",
   "execution_count": 17,
   "id": "662b635b-b7d9-4a0e-8f5e-15f0c36214b1",
   "metadata": {},
   "outputs": [],
   "source": [
    "def plotly_train(x, y, year):\n",
    "    df[\"Retained\"] = \"No\"\n",
    "    df.loc[df.IN_LEAGUE_NEXT == 1, \"Retained\"] = \"Yes\"\n",
    "    \n",
    "    fig = px.scatter(df.loc[df.SEASON_START==year], x=x, y=y, color=\"Retained\",\n",
    "                    hover_name=\"NAME\", hover_data=[\"TEAMS_LIST\"])\n",
    "    fig.show()\n",
    "    return None"
   ]
  },
  {
   "cell_type": "code",
   "execution_count": 18,
   "id": "9d245c9a-522c-445f-b164-2eae1759aaae",
   "metadata": {},
   "outputs": [
    {
     "data": {
      "application/vnd.plotly.v1+json": {
       "config": {
        "plotlyServerURL": "https://plot.ly"
       },
       "data": [
        {
         "customdata": [
          [
           "['ATL']"
          ],
          [
           "['PHX']"
          ],
          [
           "['PHX', 'LAL']"
          ],
          [
           "['LAL']"
          ],
          [
           "['HOU']"
          ],
          [
           "['CLE', 'UTA']"
          ],
          [
           "['MIA']"
          ],
          [
           "['WAS']"
          ],
          [
           "['GSW']"
          ],
          [
           "['CLE']"
          ],
          [
           "['PHX', 'WAS']"
          ],
          [
           "['CHA']"
          ],
          [
           "['HOU']"
          ],
          [
           "['WAS']"
          ],
          [
           "['TOR', 'MEM']"
          ],
          [
           "['MIL']"
          ],
          [
           "['LAC']"
          ],
          [
           "['SAS']"
          ],
          [
           "['SAS']"
          ],
          [
           "['PHI']"
          ],
          [
           "['UTA']"
          ],
          [
           "['LAL']"
          ],
          [
           "['TOR']"
          ],
          [
           "['HOU']"
          ],
          [
           "['DEN']"
          ],
          [
           "['DAL']"
          ],
          [
           "['BOS']"
          ],
          [
           "['MEM']"
          ],
          [
           "['WAS']"
          ],
          [
           "['PHI', 'SAC']"
          ],
          [
           "['MEM']"
          ],
          [
           "['IND']"
          ],
          [
           "['SAS']"
          ],
          [
           "['BKN']"
          ],
          [
           "['PHI', 'LAC']"
          ],
          [
           "['MEM', 'TOR']"
          ],
          [
           "['MIN']"
          ],
          [
           "['MIN']"
          ],
          [
           "['OKC']"
          ],
          [
           "['CLE']"
          ],
          [
           "['LAC']"
          ],
          [
           "['HOU']"
          ],
          [
           "['ORL']"
          ],
          [
           "['MIL']"
          ],
          [
           "['CHI']"
          ],
          [
           "['LAL']"
          ],
          [
           "['PHX', 'MIA']"
          ],
          [
           "['NYK', 'DAL']"
          ],
          [
           "['TOR']"
          ],
          [
           "['CHA']"
          ],
          [
           "['CLE', 'MIL']"
          ],
          [
           "['DAL', 'NYK']"
          ],
          [
           "['LAC']"
          ],
          [
           "['MIA']"
          ],
          [
           "['DET']"
          ],
          [
           "['HOU']"
          ],
          [
           "['UTA']"
          ],
          [
           "['GSW']"
          ],
          [
           "['SAS']"
          ],
          [
           "['MIA']"
          ],
          [
           "['NOP']"
          ],
          [
           "['MIN']"
          ],
          [
           "['MIN']"
          ],
          [
           "['BKN']"
          ],
          [
           "['MIA', 'DET']"
          ],
          [
           "['LAC']"
          ],
          [
           "['TOR']"
          ],
          [
           "['SAS']"
          ],
          [
           "['MEM', 'LAC']"
          ],
          [
           "['DAL', 'NYK', 'IND']"
          ],
          [
           "['POR']"
          ],
          [
           "['UTA']"
          ],
          [
           "['POR']"
          ],
          [
           "['BOS']"
          ],
          [
           "['OKC']"
          ],
          [
           "['BKN']"
          ],
          [
           "['OKC']"
          ],
          [
           "['MIL']"
          ],
          [
           "['LAC', 'MEM']"
          ],
          [
           "['MIA']"
          ],
          [
           "['SAC']"
          ],
          [
           "['DET']"
          ],
          [
           "['NYK']"
          ],
          [
           "['BOS']"
          ],
          [
           "['NYK', 'POR']"
          ],
          [
           "['CLE']"
          ],
          [
           "['TOR', 'MEM']"
          ],
          [
           "['CHA']"
          ],
          [
           "['HOU', 'CLE']"
          ],
          [
           "['CHA']"
          ],
          [
           "['UTA', 'CLE', 'SAC']"
          ],
          [
           "['WAS', 'OKC']"
          ],
          [
           "['BOS']"
          ],
          [
           "['TOR']"
          ],
          [
           "['ORL']"
          ],
          [
           "['SAC', 'HOU']"
          ],
          [
           "['LAC', 'PHI']"
          ],
          [
           "['DET']"
          ],
          [
           "['IND']"
          ],
          [
           "['MIN', 'PHI']"
          ],
          [
           "['IND']"
          ],
          [
           "['MEM']"
          ],
          [
           "['SAS']"
          ],
          [
           "['NOP']"
          ],
          [
           "['DEN']"
          ],
          [
           "['BOS']"
          ],
          [
           "['NOP']"
          ],
          [
           "['CHA']"
          ],
          [
           "['WAS']"
          ],
          [
           "['MIA']"
          ],
          [
           "['POR']"
          ],
          [
           "['ORL']"
          ],
          [
           "['DET']"
          ],
          [
           "['DAL', 'SAC']"
          ],
          [
           "['WAS', 'HOU']"
          ],
          [
           "['POR']"
          ],
          [
           "['CHA']"
          ],
          [
           "['MIL']"
          ],
          [
           "['POR']"
          ],
          [
           "['ATL', 'MEM']"
          ],
          [
           "['ORL']"
          ],
          [
           "['WAS']"
          ],
          [
           "['UTA']"
          ],
          [
           "['GSW']"
          ],
          [
           "['MIL']"
          ],
          [
           "['DEN']"
          ],
          [
           "['LAC', 'PHI']"
          ],
          [
           "['IND']"
          ],
          [
           "['ATL']"
          ],
          [
           "['CHI', 'MEM']"
          ],
          [
           "['MEM', 'LAC']"
          ],
          [
           "['BOS']"
          ],
          [
           "['OKC']"
          ],
          [
           "['ATL']"
          ],
          [
           "['BKN']"
          ],
          [
           "['SAC']"
          ],
          [
           "['POR']"
          ],
          [
           "['CHA']"
          ],
          [
           "['OKC']"
          ],
          [
           "['ATL']"
          ],
          [
           "['MIN']"
          ],
          [
           "['MIA']"
          ],
          [
           "['LAL']"
          ],
          [
           "['DEN']"
          ],
          [
           "['HOU', 'ORL']"
          ],
          [
           "['PHI', 'LAL']"
          ],
          [
           "['WAS', 'CHI']"
          ],
          [
           "['DET', 'LAL']"
          ],
          [
           "['PHI', 'MIN']"
          ],
          [
           "['UTA']"
          ],
          [
           "['OKC']"
          ],
          [
           "['NYK', 'DAL']"
          ],
          [
           "['MIL']"
          ],
          [
           "['NYK', 'DAL']"
          ],
          [
           "['IND']"
          ],
          [
           "['MIL']"
          ],
          [
           "['HOU', 'PHI']"
          ],
          [
           "['MIL', 'CLE']"
          ],
          [
           "['NOP']"
          ],
          [
           "['UTA']"
          ],
          [
           "['POR']"
          ],
          [
           "['PHX']"
          ],
          [
           "['MIA']"
          ],
          [
           "['BKN']"
          ],
          [
           "['WAS']"
          ],
          [
           "['CHI']"
          ],
          [
           "['NOP']"
          ],
          [
           "['CLE']"
          ],
          [
           "['DEN']"
          ],
          [
           "['BKN']"
          ],
          [
           "['CLE', 'POR']"
          ],
          [
           "['ORL']"
          ],
          [
           "['DET']"
          ],
          [
           "['OKC']"
          ],
          [
           "['BKN']"
          ],
          [
           "['IND']"
          ],
          [
           "['ORL']"
          ],
          [
           "['PHX']"
          ],
          [
           "['BOS']"
          ],
          [
           "['MEM']"
          ],
          [
           "['DAL']"
          ],
          [
           "['NYK']"
          ],
          [
           "['NOP']"
          ],
          [
           "['MIN']"
          ],
          [
           "['CHI', 'WAS']"
          ],
          [
           "['PHI']"
          ],
          [
           "['UTA']"
          ],
          [
           "['CHI']"
          ],
          [
           "['PHI', 'MIN']"
          ],
          [
           "['HOU']"
          ],
          [
           "['SAC']"
          ],
          [
           "['POR']"
          ],
          [
           "['MEM']"
          ],
          [
           "['DEN']"
          ],
          [
           "['MIA', 'PHX']"
          ],
          [
           "['NOP', 'MIL']"
          ],
          [
           "['DET']"
          ],
          [
           "['UTA']"
          ],
          [
           "['PHI']"
          ],
          [
           "['NOP']"
          ],
          [
           "['NYK']"
          ],
          [
           "['MIN']"
          ],
          [
           "['ATL']"
          ],
          [
           "['LAC']"
          ],
          [
           "['TOR', 'MEM']"
          ],
          [
           "['BKN']"
          ],
          [
           "['MIN']"
          ],
          [
           "['PHX']"
          ],
          [
           "['MIA']"
          ],
          [
           "['SAC']"
          ],
          [
           "['WAS', 'PHX']"
          ],
          [
           "['CHA']"
          ],
          [
           "['PHX']"
          ],
          [
           "['CHI', 'CLE']"
          ],
          [
           "['IND']"
          ],
          [
           "['DEN']"
          ],
          [
           "['DET', 'NOP']"
          ],
          [
           "['ORL']"
          ],
          [
           "['CHI', 'WAS']"
          ],
          [
           "['GSW']"
          ],
          [
           "['MIL', 'NOP']"
          ],
          [
           "['BKN']"
          ],
          [
           "['BOS']"
          ],
          [
           "['TOR']"
          ],
          [
           "['WAS']"
          ],
          [
           "['GSW']"
          ],
          [
           "['MIL']"
          ],
          [
           "['CHA']"
          ],
          [
           "['MIA']"
          ],
          [
           "['BKN']"
          ],
          [
           "['CLE']"
          ],
          [
           "['NYK']"
          ],
          [
           "['UTA']"
          ],
          [
           "['CLE']"
          ],
          [
           "['CHI']"
          ],
          [
           "['LAC', 'PHI']"
          ],
          [
           "['TOR']"
          ],
          [
           "['PHI']"
          ],
          [
           "['PHX']"
          ],
          [
           "['IND']"
          ],
          [
           "['DEN']"
          ],
          [
           "['HOU', 'CLE']"
          ],
          [
           "['CHI']"
          ],
          [
           "['DET', 'NYK']"
          ],
          [
           "['SAC']"
          ],
          [
           "['LAL']"
          ],
          [
           "['GSW']"
          ],
          [
           "['SAC', 'POR']"
          ],
          [
           "['BKN']"
          ],
          [
           "['MIL', 'DET']"
          ],
          [
           "['DEN']"
          ],
          [
           "['SAS']"
          ],
          [
           "['ATL']"
          ],
          [
           "['BOS']"
          ],
          [
           "['ATL']"
          ],
          [
           "['MIL']"
          ],
          [
           "['NOP']"
          ],
          [
           "['POR']"
          ],
          [
           "['CLE', 'TOR']"
          ],
          [
           "['UTA']"
          ],
          [
           "['WAS']"
          ],
          [
           "['TOR']"
          ],
          [
           "['PHI']"
          ],
          [
           "['OKC', 'CHI']"
          ],
          [
           "['CLE']"
          ],
          [
           "['SAC']"
          ],
          [
           "['GSW']"
          ],
          [
           "['LAC']"
          ],
          [
           "['DEN']"
          ],
          [
           "['LAL', 'LAC']"
          ],
          [
           "['DAL']"
          ],
          [
           "['TOR']"
          ],
          [
           "['OKC']"
          ],
          [
           "['CHI']"
          ],
          [
           "['SAS']"
          ],
          [
           "['HOU']"
          ],
          [
           "['MIA']"
          ],
          [
           "['CHI']"
          ],
          [
           "['LAL']"
          ],
          [
           "['CLE']"
          ],
          [
           "['GSW']"
          ],
          [
           "['PHI']"
          ],
          [
           "['LAL']"
          ],
          [
           "['PHX']"
          ],
          [
           "['SAC']"
          ],
          [
           "['BOS']"
          ],
          [
           "['CHA']"
          ],
          [
           "['ORL']"
          ],
          [
           "['DAL', 'NYK']"
          ],
          [
           "['NYK']"
          ],
          [
           "['CHI']"
          ],
          [
           "['UTA']"
          ],
          [
           "['DET']"
          ],
          [
           "['POR']"
          ],
          [
           "['ATL']"
          ],
          [
           "['SAC', 'DAL']"
          ],
          [
           "['PHI']"
          ],
          [
           "['TOR']"
          ],
          [
           "['SAC']"
          ],
          [
           "['BKN']"
          ],
          [
           "['IND']"
          ],
          [
           "['MIA']"
          ],
          [
           "['OKC']"
          ],
          [
           "['MIL']"
          ],
          [
           "['HOU']"
          ],
          [
           "['GSW']"
          ],
          [
           "['UTA']"
          ],
          [
           "['LAL']"
          ],
          [
           "['BOS']"
          ],
          [
           "['SAS']"
          ],
          [
           "['NOP']"
          ],
          [
           "['POR', 'SAC']"
          ],
          [
           "['LAL']"
          ],
          [
           "['LAC']"
          ],
          [
           "['CHA']"
          ],
          [
           "['BOS']"
          ],
          [
           "['IND']"
          ],
          [
           "['ORL']"
          ],
          [
           "['SAC']"
          ],
          [
           "['PHI']"
          ],
          [
           "['LAC']"
          ],
          [
           "['MEM']"
          ],
          [
           "['WAS']"
          ],
          [
           "['DEN']"
          ],
          [
           "['NYK']"
          ],
          [
           "['MIL']"
          ],
          [
           "['NYK']"
          ],
          [
           "['NYK']"
          ],
          [
           "['TOR']"
          ],
          [
           "['BOS']"
          ],
          [
           "['DAL']"
          ],
          [
           "['DEN']"
          ],
          [
           "['UTA']"
          ],
          [
           "['ORL']"
          ],
          [
           "['MEM']"
          ],
          [
           "['UTA']"
          ],
          [
           "['DAL']"
          ],
          [
           "['SAC']"
          ],
          [
           "['ORL']"
          ],
          [
           "['MIN']"
          ],
          [
           "['PHX']"
          ],
          [
           "['CHA']"
          ],
          [
           "['DET']"
          ],
          [
           "['WAS']"
          ],
          [
           "['DAL']"
          ],
          [
           "['MEM']"
          ],
          [
           "['CHI']"
          ],
          [
           "['OKC']"
          ],
          [
           "['MIL']"
          ],
          [
           "['GSW']"
          ],
          [
           "['ORL']"
          ],
          [
           "['LAC']"
          ],
          [
           "['CHA']"
          ],
          [
           "['IND']"
          ],
          [
           "['ATL']"
          ],
          [
           "['CHI']"
          ],
          [
           "['MEM']"
          ],
          [
           "['IND']"
          ],
          [
           "['NYK']"
          ],
          [
           "['PHX']"
          ],
          [
           "['SAS']"
          ],
          [
           "['PHI']"
          ],
          [
           "['LAL', 'DET']"
          ],
          [
           "['MIN']"
          ],
          [
           "['LAC']"
          ],
          [
           "['NYK']"
          ],
          [
           "['CLE']"
          ],
          [
           "['PHI', 'LAC']"
          ],
          [
           "['POR']"
          ],
          [
           "['PHI']"
          ],
          [
           "['ATL']"
          ],
          [
           "['DET']"
          ],
          [
           "['POR']"
          ],
          [
           "['NYK']"
          ],
          [
           "['DEN']"
          ],
          [
           "['LAL']"
          ],
          [
           "['SAS']"
          ],
          [
           "['NOP']"
          ],
          [
           "['ATL']"
          ],
          [
           "['PHX']"
          ],
          [
           "['DAL']"
          ],
          [
           "['BKN']"
          ],
          [
           "['BOS']"
          ],
          [
           "['BKN']"
          ],
          [
           "['PHX']"
          ],
          [
           "['BKN']"
          ],
          [
           "['LAL']"
          ],
          [
           "['HOU']"
          ],
          [
           "['CHA']"
          ],
          [
           "['OKC']"
          ],
          [
           "['MIA']"
          ],
          [
           "['DAL']"
          ],
          [
           "['MEM']"
          ],
          [
           "['LAL']"
          ],
          [
           "['CHA']"
          ],
          [
           "['DAL']"
          ],
          [
           "['DEN']"
          ],
          [
           "['ATL', 'SAC']"
          ],
          [
           "['HOU']"
          ],
          [
           "['SAS']"
          ]
         ],
         "hovertemplate": "<b>%{hovertext}</b><br><br>Retained=Yes<br>PTS=%{x}<br>TOV_PERCENT=%{y}<br>TEAMS_LIST=%{customdata[0]}<extra></extra>",
         "hovertext": [
          "Vince Carter",
          "Jamal Crawford",
          "Tyson Chandler",
          "LeBron James",
          "Carmelo Anthony",
          "Kyle Korver",
          "Udonis Haslem",
          "Dwight Howard",
          "Andre Iguodala",
          "JR Smith",
          "Trevor Ariza",
          "Marvin Williams",
          "Chris Paul",
          "Ian Mahinmi",
          "CJ Miles",
          "Ersan Ilyasova",
          "Lou Williams",
          "LaMarcus Aldridge",
          "Rudy Gay",
          "JJ Redick",
          "Thabo Sefolosha",
          "Rajon Rondo",
          "Kyle Lowry",
          "P.J. Tucker",
          "Paul Millsap",
          "J.J. Barea",
          "Al Horford",
          "Mike Conley",
          "Jeff Green",
          "Corey Brewer",
          "Joakim Noah",
          "Thaddeus Young",
          "Marco Belinelli",
          "Jared Dudley",
          "Wilson Chandler",
          "Marc Gasol",
          "Anthony Tolliver",
          "Derrick Rose",
          "Russell Westbrook",
          "Kevin Love",
          "Danilo Gallinari",
          "Eric Gordon",
          "D.J. Augustin",
          "Brook Lopez",
          "Robin Lopez",
          "JaVale McGee",
          "Ryan Anderson",
          "Courtney Lee",
          "Serge Ibaka",
          "Nicolas Batum",
          "George Hill",
          "DeAndre Jordan",
          "Luc Mbah a Moute",
          "Goran Dragic",
          "Blake Griffin",
          "James Harden",
          "Ricky Rubio",
          "Stephen Curry",
          "DeMar DeRozan",
          "James Johnson",
          "Jrue Holiday",
          "Jeff Teague",
          "Taj Gibson",
          "DeMarre Carroll",
          "Wayne Ellington",
          "Patrick Beverley",
          "Danny Green",
          "Patty Mills",
          "Garrett Temple",
          "Wesley Matthews",
          "Evan Turner",
          "Derrick Favors",
          "Al-Farouq Aminu",
          "Gordon Hayward",
          "Paul George",
          "Ed Davis",
          "Patrick Patterson",
          "Eric Bledsoe",
          "Avery Bradley",
          "Hassan Whiteside",
          "Nemanja Bjelica",
          "Ish Smith",
          "Lance Thomas",
          "Kyrie Irving",
          "Enes Freedom",
          "Tristan Thompson",
          "Jonas Valanciunas",
          "Bismack Biyombo",
          "Brandon Knight",
          "Kemba Walker",
          "Alec Burks",
          "Markieff Morris",
          "Marcus Morris Sr.",
          "Kawhi Leonard",
          "Nikola Vucevic",
          "Iman Shumpert",
          "Tobias Harris",
          "Reggie Jackson",
          "Cory Joseph",
          "Jimmy Butler",
          "Bojan Bogdanovic",
          "Chandler Parsons",
          "Davis Bertans",
          "E'Twaun Moore",
          "Isaiah Thomas",
          "Brad Wanamaker",
          "Anthony Davis",
          "Michael Kidd-Gilchrist",
          "Bradley Beal",
          "Dion Waiters",
          "Damian Lillard",
          "Terrence Ross",
          "Andre Drummond",
          "Harrison Barnes",
          "Austin Rivers",
          "Meyers Leonard",
          "Jeremy Lamb",
          "John Henson",
          "Maurice Harkless",
          "Tyler Zeller",
          "Evan Fournier",
          "Tomas Satoransky",
          "Jae Crowder",
          "Draymond Green",
          "Khris Middleton",
          "Will Barton",
          "Mike Scott",
          "Kyle O'Quinn",
          "Kent Bazemore",
          "Justin Holiday",
          "JaMychal Green",
          "Aron Baynes",
          "Nerlens Noel",
          "Alex Len",
          "Allen Crabbe",
          "Ben McLemore",
          "CJ McCollum",
          "Cody Zeller",
          "Dennis Schroder",
          "Dewayne Dedmon",
          "Gorgui Dieng",
          "Kelly Olynyk",
          "Kentavious Caldwell-Pope",
          "Mason Plumlee",
          "Michael Carter-Williams",
          "Mike Muscala",
          "Otto Porter Jr.",
          "Reggie Bullock Jr.",
          "Robert Covington",
          "Rudy Gobert",
          "Steven Adams",
          "Tim Hardaway Jr.",
          "Tony Snell",
          "Trey Burke",
          "Victor Oladipo",
          "Giannis Antetokounmpo",
          "James Ennis III",
          "Matthew Dellavedova",
          "Solomon Hill",
          "Raul Neto",
          "Seth Curry",
          "Troy Daniels",
          "Rodney McGruder",
          "Shabazz Napier",
          "Jordan McRae",
          "Zach LaVine",
          "Elfrid Payton",
          "Jordan Clarkson",
          "Gary Harris",
          "Spencer Dinwiddie",
          "Rodney Hood",
          "Khem Birch",
          "Glenn Robinson III",
          "Jerami Grant",
          "Joe Harris",
          "Doug McDermott",
          "Aaron Gordon",
          "T.J. Warren",
          "Marcus Smart",
          "Kyle Anderson",
          "Dwight Powell",
          "Noah Vonleh",
          "Julius Randle",
          "Andrew Wiggins",
          "Jabari Parker",
          "Joel Embiid",
          "Dante Exum",
          "JaKarr Sampson",
          "Dario Saric",
          "Clint Capela",
          "Bogdan Bogdanovic",
          "Jusuf Nurkic",
          "Bruno Caboclo",
          "Nikola Jokic",
          "Tyler Johnson",
          "Tim Frazier",
          "Langston Galloway",
          "Joe Ingles",
          "T.J. McConnell",
          "Jahlil Okafor",
          "Emmanuel Mudiay",
          "Tyus Jones",
          "Justin Anderson",
          "Montrezl Harrell",
          "Delon Wright",
          "D'Angelo Russell",
          "Karl-Anthony Towns",
          "Richaun Holmes",
          "Justise Winslow",
          "Willie Cauley-Stein",
          "Kelly Oubre Jr.",
          "Frank Kaminsky",
          "Devin Booker",
          "Cameron Payne",
          "Myles Turner",
          "Trey Lyles",
          "Stanley Johnson",
          "Jerian Grant",
          "Bobby Portis",
          "Kevon Looney",
          "Christian Wood",
          "Rondae Hollis-Jefferson",
          "Terry Rozier",
          "Norman Powell",
          "Chasson Randle",
          "Quinn Cook",
          "Pat Connaughton",
          "Willy Hernangomez",
          "Josh Richardson",
          "Treveon Graham",
          "Larry Nance Jr.",
          "Mario Hezonja",
          "Royce O'Neale",
          "Cedi Osman",
          "Cristiano Felicio",
          "Boban Marjanovic",
          "Malcolm Miller",
          "Ben Simmons",
          "Dragan Bender",
          "Domantas Sabonis",
          "Malik Beasley",
          "Marquese Chriss",
          "Kris Dunn",
          "Henry Ellenson",
          "Buddy Hield",
          "Brandon Ingram",
          "Damian Jones",
          "Skal Labissiere",
          "Caris LeVert",
          "Thon Maker",
          "Jamal Murray",
          "Jakob Poeltl",
          "Taurean Prince",
          "Jaylen Brown",
          "DeAndre' Bembry",
          "Malcolm Brogdon",
          "Cheick Diallo",
          "Jake Layman",
          "Patrick McCaw",
          "Georges Niang",
          "Gary Payton II",
          "Pascal Siakam",
          "Furkan Korkmaz",
          "Timothe Luwawu-Cabarrot",
          "Ante Zizic",
          "Yogi Ferrell",
          "Damion Lee",
          "Tyrone Wallace",
          "Juancho Hernangomez",
          "Ivica Zubac",
          "Dorian Finney-Smith",
          "Fred VanVleet",
          "Abdel Nader",
          "Ryan Arcidiacono",
          "Bryn Forbes",
          "Danuel House Jr.",
          "Derrick Jones Jr.",
          "Shaquille Harrison",
          "Alex Caruso",
          "David Nwaba",
          "Alfonzo McKinnie",
          "Markelle Fultz",
          "Lonzo Ball",
          "Josh Jackson",
          "De'Aaron Fox",
          "Jayson Tatum",
          "Malik Monk",
          "Jonathan Isaac",
          "Dennis Smith Jr.",
          "Frank Ntilikina",
          "Lauri Markkanen",
          "Donovan Mitchell",
          "Luke Kennard",
          "Zach Collins",
          "John Collins",
          "Justin Jackson",
          "Justin Patton",
          "OG Anunoby",
          "Harry Giles III",
          "Jarrett Allen",
          "T.J. Leaf",
          "Bam Adebayo",
          "Terrance Ferguson",
          "D.J. Wilson",
          "Isaiah Hartenstein",
          "Jordan Bell",
          "Tony Bradley",
          "Kyle Kuzma",
          "Semi Ojeleye",
          "Derrick White",
          "Frank Jackson",
          "Caleb Swanigan",
          "Josh Hart",
          "Johnathan Motley",
          "Dwayne Bacon",
          "PJ Dozier",
          "Edmond Sumner",
          "Wes Iwundu",
          "Frank Mason III",
          "Jonah Bolden",
          "Sindarius Thornwell",
          "Dillon Brooks",
          "Thomas Bryant",
          "Monte Morris",
          "Damyean Dotson",
          "Sterling Brown",
          "Luke Kornet",
          "Kadeem Allen",
          "Chris Boucher",
          "Daniel Theis",
          "Maxi Kleber",
          "Torrey Craig",
          "Naz Mitrou-Long",
          "Amile Jefferson",
          "Dusty Hannahs",
          "Grayson Allen",
          "Kostas Antetokounmpo",
          "Marvin Bagley III",
          "Mo Bamba",
          "Keita Bates-Diop",
          "Mikal Bridges",
          "Miles Bridges",
          "Bruce Brown",
          "Troy Brown Jr.",
          "Jalen Brunson",
          "Jevon Carter",
          "Wendell Carter Jr.",
          "Hamidou Diallo",
          "Donte DiVincenzo",
          "Jacob Evans",
          "Melvin Frazier Jr.",
          "Shai Gilgeous-Alexander",
          "Devonte' Graham",
          "Aaron Holiday",
          "Kevin Huerter",
          "Chandler Hutchison",
          "Jaren Jackson Jr.",
          "Alize Johnson",
          "Kevin Knox II",
          "De'Anthony Melton",
          "Chimezie Metu",
          "Shake Milton",
          "Svi Mykhailiuk",
          "Josh Okogie",
          "Jerome Robinson",
          "Mitchell Robinson",
          "Collin Sexton",
          "Landry Shamet",
          "Anfernee Simons",
          "Zhaire Smith",
          "Omari Spellman",
          "Khyri Thomas",
          "Gary Trent Jr.",
          "Allonzo Trier",
          "Jarred Vanderbilt",
          "Moritz Wagner",
          "Lonnie Walker IV",
          "Kenrich Williams",
          "Trae Young",
          "Deandre Ayton",
          "Luka Doncic",
          "Theo Pinson",
          "Robert Williams III",
          "Dzanan Musa",
          "Elie Okobo",
          "Rodions Kurucs",
          "Isaac Bonga",
          "Gary Clark",
          "J.P. Macura",
          "Deonte Burton",
          "Duncan Robinson",
          "Daryl Macon",
          "Yuta Watanabe",
          "Johnathan Williams",
          "Joe Chealey",
          "Ryan Broekhoff",
          "Brandon Goodwin",
          "BJ Johnson",
          "Chris Chiozza",
          "Drew Eubanks"
         ],
         "legendgroup": "Yes",
         "marker": {
          "color": "#636efa",
          "symbol": "circle"
         },
         "mode": "markers",
         "name": "Yes",
         "orientation": "v",
         "showlegend": true,
         "type": "scatter",
         "x": [
          562,
          508,
          173,
          1505,
          134,
          600,
          25,
          115,
          389,
          74,
          863,
          756,
          906,
          139,
          339,
          453,
          1498,
          1727,
          946,
          1372,
          190,
          424,
          926,
          601,
          883,
          415,
          925,
          1478,
          946,
          151,
          298,
          1024,
          829,
          287,
          305,
          1071,
          326,
          917,
          1675,
          374,
          1346,
          1103,
          948,
          1009,
          704,
          897,
          63,
          136,
          1112,
          699,
          458,
          758,
          20,
          494,
          1841,
          2818,
          864,
          1881,
          1635,
          428,
          1420,
          510,
          753,
          744,
          545,
          596,
          821,
          811,
          586,
          840,
          494,
          897,
          760,
          825,
          2159,
          472,
          229,
          1241,
          625,
          887,
          741,
          501,
          205,
          1596,
          915,
          470,
          763,
          236,
          266,
          2102,
          561,
          547,
          1046,
          1596,
          1665,
          465,
          1644,
          1260,
          537,
          1215,
          1454,
          187,
          606,
          633,
          97,
          140,
          1452,
          427,
          2099,
          527,
          2067,
          1223,
          1370,
          1265,
          618,
          357,
          1208,
          79,
          460,
          46,
          1226,
          709,
          951,
          486,
          1407,
          494,
          459,
          156,
          779,
          857,
          611,
          284,
          378,
          854,
          413,
          75,
          1468,
          497,
          1224,
          693,
          485,
          787,
          938,
          637,
          134,
          449,
          780,
          711,
          465,
          1284,
          1108,
          1174,
          444,
          631,
          675,
          1994,
          389,
          282,
          191,
          196,
          581,
          318,
          503,
          529,
          160,
          1492,
          446,
          1364,
          737,
          1143,
          805,
          240,
          198,
          1090,
          1041,
          564,
          1246,
          772,
          708,
          346,
          815,
          571,
          1565,
          1321,
          930,
          1761,
          288,
          80,
          858,
          1114,
          990,
          1125,
          282,
          1604,
          619,
          310,
          672,
          994,
          483,
          484,
          873,
          468,
          178,
          1361,
          653,
          1712,
          1880,
          572,
          830,
          965,
          1047,
          405,
          1700,
          250,
          984,
          546,
          454,
          250,
          710,
          500,
          172,
          527,
          708,
          516,
          271,
          509,
          421,
          421,
          1209,
          184,
          627,
          511,
          426,
          991,
          240,
          422,
          35,
          1337,
          230,
          1043,
          917,
          182,
          519,
          114,
          1695,
          950,
          130,
          67,
          547,
          323,
          1367,
          423,
          742,
          964,
          687,
          1001,
          387,
          541,
          74,
          235,
          11,
          1354,
          279,
          231,
          459,
          420,
          158,
          218,
          408,
          525,
          608,
          701,
          241,
          544,
          967,
          366,
          422,
          474,
          229,
          334,
          337,
          155,
          465,
          910,
          1399,
          1243,
          653,
          720,
          722,
          246,
          974,
          1829,
          613,
          512,
          1188,
          583,
          5,
          469,
          408,
          873,
          225,
          729,
          513,
          280,
          53,
          223,
          17,
          1308,
          186,
          663,
          495,
          43,
          525,
          102,
          316,
          19,
          66,
          339,
          195,
          207,
          62,
          135,
          758,
          851,
          779,
          372,
          322,
          189,
          93,
          374,
          485,
          430,
          16,
          27,
          8,
          211,
          2,
          923,
          292,
          151,
          684,
          597,
          319,
          248,
          678,
          172,
          455,
          190,
          131,
          40,
          15,
          889,
          217,
          294,
          727,
          229,
          798,
          13,
          963,
          250,
          51,
          87,
          133,
          570,
          112,
          485,
          1371,
          722,
          75,
          40,
          272,
          61,
          40,
          695,
          24,
          207,
          45,
          279,
          1549,
          1159,
          1526,
          81,
          81,
          19,
          304,
          534,
          19,
          148,
          6,
          82,
          50,
          29,
          39,
          157,
          2,
          167,
          23,
          23,
          6,
          41
         ],
         "xaxis": "x",
         "y": [
          8.8,
          16.9,
          23.4,
          13.3,
          5.8,
          10.3,
          7.9,
          15.1,
          13.6,
          11.7,
          11.6,
          6.4,
          15.8,
          13.8,
          8.2,
          10.4,
          11.8,
          8.8,
          12.3,
          8.1,
          13.6,
          22.1,
          18.1,
          10.3,
          10.9,
          14.7,
          11.8,
          9.1,
          11.5,
          11.8,
          16.1,
          12,
          8.8,
          14.2,
          13.9,
          13.6,
          11.2,
          9.1,
          16.3,
          11.2,
          8.5,
          8.2,
          14.3,
          8.9,
          14,
          13.2,
          15.5,
          9.2,
          10.7,
          16.3,
          11,
          21.4,
          9,
          12.9,
          13.8,
          14.5,
          17.8,
          11.6,
          11.7,
          15.3,
          14.1,
          16.7,
          10.6,
          9.7,
          7.7,
          13.8,
          10.4,
          11.6,
          11.5,
          10.6,
          18.9,
          10.5,
          9.7,
          12.8,
          10,
          14.6,
          8.7,
          13.3,
          12.4,
          11,
          11.5,
          10.6,
          10.1,
          11.3,
          13.3,
          12.1,
          12.7,
          14.8,
          9.8,
          10.1,
          10.8,
          9.3,
          9.1,
          8.4,
          9.9,
          9.7,
          9.8,
          11.4,
          12.4,
          8.2,
          10.2,
          14.2,
          8.2,
          9.6,
          14,
          13.9,
          8.4,
          10,
          11,
          11.4,
          10.8,
          7.6,
          12.4,
          7.9,
          10,
          14,
          6.8,
          14.4,
          9.7,
          9.5,
          11.9,
          16.7,
          8.8,
          26.8,
          12.1,
          11.7,
          9.2,
          17.6,
          13.6,
          11.2,
          14.3,
          13.8,
          13.4,
          11.5,
          10.4,
          6.7,
          7.4,
          13.2,
          12.5,
          12.7,
          11.9,
          15,
          7.3,
          19.2,
          12,
          10.8,
          8.7,
          9.3,
          10.5,
          12.1,
          12.6,
          8.6,
          5.7,
          7.5,
          11.2,
          14.8,
          9.3,
          20.4,
          13.9,
          16.6,
          11.1,
          8.7,
          11.5,
          11.7,
          9.4,
          14.2,
          20.1,
          9.6,
          8.9,
          13.4,
          6.9,
          9.6,
          8.5,
          6.8,
          13,
          8.4,
          12.3,
          7.2,
          16.5,
          16,
          10.1,
          14.7,
          13.8,
          9.3,
          15.4,
          13.2,
          15.7,
          5.9,
          11.3,
          10,
          11.1,
          14.6,
          13.3,
          15.4,
          11.7,
          21.1,
          3.7,
          18.4,
          17.3,
          11.5,
          14.6,
          9,
          11.8,
          11,
          11,
          13.6,
          13.7,
          10.5,
          14.9,
          9,
          9.8,
          10.6,
          15.4,
          15.7,
          10.3,
          11.1,
          14.7,
          17.7,
          9.9,
          11.5,
          10.7,
          10.7,
          8.8,
          13.1,
          15,
          10,
          8.2,
          13.9,
          9.1,
          7.8,
          15.3,
          14.6,
          16.2,
          11,
          13.5,
          15.7,
          3.5,
          19.3,
          14.4,
          16.2,
          6.7,
          15.3,
          16.2,
          7.8,
          9.2,
          13.1,
          15.1,
          16.3,
          11.4,
          9.8,
          11.1,
          12.7,
          13.4,
          10.1,
          17.4,
          10,
          14,
          9.2,
          19.6,
          10.7,
          11.1,
          12.5,
          8.6,
          8.2,
          13.6,
          9.5,
          7.4,
          12.9,
          9.5,
          13.9,
          11.4,
          11.2,
          10.1,
          12,
          8.8,
          11,
          10.2,
          11.1,
          17.3,
          8.8,
          9.2,
          12.7,
          17.8,
          15.6,
          15,
          9.7,
          12,
          10.1,
          17.6,
          15.9,
          8.8,
          11.3,
          9.4,
          14.5,
          11.2,
          5.3,
          0,
          11.3,
          15.8,
          13,
          5.8,
          17.1,
          9.4,
          10.5,
          21.6,
          16.7,
          15.1,
          10,
          9.8,
          14,
          9.1,
          24,
          10.4,
          15,
          6.1,
          0,
          11.8,
          12.1,
          15.6,
          17.2,
          23.8,
          12.3,
          9.6,
          6.6,
          8.7,
          12.2,
          7.6,
          13.6,
          7.8,
          9.9,
          11.4,
          10.1,
          27.7,
          4.9,
          7.2,
          13.9,
          17.4,
          10.7,
          13.7,
          8.3,
          10.2,
          8.4,
          11.9,
          10.5,
          12.5,
          14.2,
          13.4,
          10.7,
          12.8,
          17.1,
          4.2,
          15,
          11.3,
          12.3,
          13.8,
          10,
          12.7,
          0,
          10.1,
          21.8,
          18.6,
          6.2,
          12.4,
          9.8,
          10.2,
          9.1,
          12.3,
          7,
          13.6,
          13.8,
          10.5,
          5.1,
          7,
          15.8,
          25.5,
          16.7,
          7.4,
          11.1,
          17.6,
          11.7,
          15,
          17.9,
          14.8,
          14.9,
          18.2,
          13.6,
          13.2,
          4.3,
          0,
          9.3,
          7.6,
          16.6,
          9.8,
          10.9,
          0,
          10.6,
          9.7,
          9.6,
          11.1,
          20.1
         ],
         "yaxis": "y"
        },
        {
         "customdata": [
          [
           "['DAL']"
          ],
          [
           "['SAS', 'MIL']"
          ],
          [
           "['CHA']"
          ],
          [
           "['HOU']"
          ],
          [
           "['MIA']"
          ],
          [
           "['DET']"
          ],
          [
           "['GSW']"
          ],
          [
           "['DAL']"
          ],
          [
           "['MIN']"
          ],
          [
           "['GSW']"
          ],
          [
           "['OKC']"
          ],
          [
           "['CLE']"
          ],
          [
           "['HOU']"
          ],
          [
           "['PHI']"
          ],
          [
           "['LAC']"
          ],
          [
           "['DET']"
          ],
          [
           "['GSW']"
          ],
          [
           "['DEN']"
          ],
          [
           "['WAS', 'MIL', 'NOP']"
          ],
          [
           "['LAL']"
          ],
          [
           "['LAL']"
          ],
          [
           "['MIN']"
          ],
          [
           "['SAC']"
          ],
          [
           "['IND']"
          ],
          [
           "['IND']"
          ],
          [
           "['MEM']"
          ],
          [
           "['SAS']"
          ],
          [
           "['GSW']"
          ],
          [
           "['TOR']"
          ],
          [
           "['WAS']"
          ],
          [
           "['NOP', 'WAS']"
          ],
          [
           "['GSW']"
          ],
          [
           "['UTA']"
          ],
          [
           "['TOR', 'BOS', 'PHI']"
          ],
          [
           "['SAS']"
          ],
          [
           "['LAL']"
          ],
          [
           "['ATL', 'TOR']"
          ],
          [
           "['PHX']"
          ],
          [
           "['GSW']"
          ],
          [
           "['SAS']"
          ],
          [
           "['BKN', 'HOU']"
          ],
          [
           "['NOP', 'MIL']"
          ],
          [
           "['MEM']"
          ],
          [
           "['MEM', 'CHA']"
          ],
          [
           "['DET']"
          ],
          [
           "['HOU']"
          ],
          [
           "['WAS', 'NYK']"
          ],
          [
           "['ATL']"
          ],
          [
           "['PHX']"
          ],
          [
           "['NOP']"
          ],
          [
           "['LAL']"
          ],
          [
           "['MIN', 'HOU']"
          ],
          [
           "['MEM']"
          ],
          [
           "['PHX', 'MIN', 'MIL']"
          ],
          [
           "['TOR']"
          ],
          [
           "['OKC']"
          ],
          [
           "['NOP']"
          ],
          [
           "['DET']"
          ],
          [
           "['ORL', 'PHI']"
          ],
          [
           "['MIN']"
          ],
          [
           "['POR', 'CLE']"
          ],
          [
           "['PHX', 'TOR']"
          ],
          [
           "['CLE']"
          ],
          [
           "['MEM', 'CLE', 'NOP']"
          ],
          [
           "['BOS']"
          ],
          [
           "['CLE', 'WAS']"
          ],
          [
           "['ORL']"
          ],
          [
           "['BKN']"
          ],
          [
           "['DAL']"
          ],
          [
           "['ATL']"
          ],
          [
           "['CHI']"
          ],
          [
           "['MEM']"
          ],
          [
           "['POR']"
          ],
          [
           "['ATL']"
          ],
          [
           "['PHI']"
          ],
          [
           "['HOU']"
          ],
          [
           "['CHI']"
          ],
          [
           "['NYK', 'WAS']"
          ],
          [
           "['ATL']"
          ],
          [
           "['TOR']"
          ],
          [
           "['MEM', 'CHI']"
          ],
          [
           "['SAC']"
          ],
          [
           "['ATL']"
          ],
          [
           "['BOS']"
          ],
          [
           "['WAS']"
          ],
          [
           "['CLE']"
          ],
          [
           "['TOR']"
          ],
          [
           "['BKN', 'MIN']"
          ],
          [
           "['IND']"
          ],
          [
           "['PHX', 'OKC']"
          ],
          [
           "['MEM']"
          ],
          [
           "['DEN']"
          ],
          [
           "['ATL', 'MEM']"
          ],
          [
           "['CLE']"
          ],
          [
           "['WAS']"
          ],
          [
           "['CLE']"
          ],
          [
           "['IND']"
          ],
          [
           "['NYK']"
          ],
          [
           "['LAC']"
          ],
          [
           "['UTA']"
          ],
          [
           "['CHI']"
          ],
          [
           "['ORL']"
          ],
          [
           "['ORL']"
          ],
          [
           "['MIL']"
          ],
          [
           "['NYK']"
          ],
          [
           "['BKN']"
          ],
          [
           "['CHI']"
          ],
          [
           "['MIL']"
          ],
          [
           "['PHX']"
          ],
          [
           "['MIA']"
          ],
          [
           "['DAL', 'PHX']"
          ],
          [
           "['MIL']"
          ],
          [
           "['HOU']"
          ],
          [
           "['OKC']"
          ],
          [
           "['CLE']"
          ],
          [
           "['OKC']"
          ],
          [
           "['GSW']"
          ],
          [
           "['CHI']"
          ],
          [
           "['LAC']"
          ],
          [
           "['DEN']"
          ],
          [
           "['ATL']"
          ],
          [
           "['MIN']"
          ],
          [
           "['PHX', 'MIA']"
          ],
          [
           "['DEN']"
          ],
          [
           "['DET']"
          ],
          [
           "['LAL']"
          ],
          [
           "['MIN']"
          ],
          [
           "['PHI']"
          ],
          [
           "['ATL']"
          ],
          [
           "['NOP']"
          ]
         ],
         "hovertemplate": "<b>%{hovertext}</b><br><br>Retained=No<br>PTS=%{x}<br>TOV_PERCENT=%{y}<br>TEAMS_LIST=%{customdata[0]}<extra></extra>",
         "hovertext": [
          "Dirk Nowitzki",
          "Pau Gasol",
          "Tony Parker",
          "Nene",
          "Dwyane Wade",
          "Zaza Pachulia",
          "Shaun Livingston",
          "Devin Harris",
          "Luol Deng",
          "Andrew Bogut",
          "Raymond Felton",
          "Channing Frye",
          "Gerald Green",
          "Amir Johnson",
          "Marcin Gortat",
          "Jose Calderon",
          "Kevin Durant",
          "Nick Young",
          "Jason Smith",
          "Andre Ingram",
          "Michael Beasley",
          "Jerryd Bayless",
          "Kosta Koufos",
          "Tyreke Evans",
          "Darren Collison",
          "Omri Casspi",
          "Dante Cunningham",
          "Jonas Jerebko",
          "Jodie Meeks",
          "John Wall",
          "Wesley Johnson",
          "DeMarcus Cousins",
          "Ekpe Udoh",
          "Greg Monroe",
          "Quincy Pondexter",
          "Lance Stephenson",
          "Jeremy Lin",
          "Jimmer Fredette",
          "Klay Thompson",
          "Donatas Motiejunas",
          "Kenneth Faried",
          "Nikola Mirotic",
          "MarShon Brooks",
          "Shelvin Mack",
          "Jon Leuer",
          "Terrence Jones",
          "John Jenkins",
          "Miles Plumlee",
          "Quincy Acy",
          "Darius Miller",
          "Scott Machado",
          "James Nunnally",
          "DJ Stephens",
          "Isaiah Canaan",
          "Lorenzo Brown",
          "Alex Abrines",
          "Ian Clark",
          "Kalin Lucas",
          "Jonathon Simmons",
          "C.J. Williams",
          "Nik Stauskas",
          "Eric Moreland",
          "John Holland",
          "Andrew Harrison",
          "RJ Hunter",
          "Sam Dekker",
          "Jarell Martin",
          "Alan Williams",
          "Salah Mejri",
          "Jordan Sibert",
          "Walt Lemon Jr.",
          "Julian Washburn",
          "Wade Baldwin IV",
          "Deyonta Davis",
          "Demetrius Jackson",
          "Zhou Qi",
          "Tyler Ulis",
          "Ron Baker",
          "Daniel Hamilton",
          "Malachi Richardson",
          "Wayne Selden",
          "Troy Williams",
          "Alex Poythress",
          "Guerschon Yabusele",
          "Okaro White",
          "Jalen Jones",
          "Jordan Loyd",
          "Mitchell Creek",
          "Ike Anigbogu",
          "Jawun Evans",
          "Ivan Rabb",
          "Tyler Lydon",
          "Tyler Dorsey",
          "Jaron Blossomgame",
          "Devin Robinson",
          "Kobi Simmons",
          "Davon Reed",
          "Isaiah Hicks",
          "Milos Teodosic",
          "Tyler Cavanaugh",
          "Antonio Blakeney",
          "Troy Caupain",
          "Isaiah Briscoe",
          "Jaylen Morris",
          "Billy Garrett",
          "Tahjere McCall",
          "Rawle Alkins",
          "Trevon Duval",
          "George King",
          "Yante Maten",
          "Ray Spalding",
          "Bonzie Colson",
          "Vincent Edwards",
          "Donte Grantham",
          "Deng Adel",
          "Tyler Davis",
          "Marcus Derrickson",
          "Brandon Sampson",
          "Angel Delgado",
          "Thomas Welsh",
          "Jaylen Adams",
          "Jared Terrell",
          "Emanuel Terry",
          "DeVaughn Akoon-Purcell",
          "Zach Lofton",
          "Jemerrio Jones",
          "Cam Reynolds",
          "Haywood Highsmith",
          "Isaac Humphries",
          "Dairis Bertans"
         ],
         "legendgroup": "No",
         "marker": {
          "color": "#EF553B",
          "symbol": "circle"
         },
         "mode": "markers",
         "name": "No",
         "orientation": "v",
         "showlegend": true,
         "type": "scatter",
         "x": [
          373,
          118,
          530,
          151,
          1083,
          267,
          258,
          428,
          157,
          39,
          142,
          129,
          675,
          201,
          233,
          113,
          2027,
          9,
          65,
          0,
          181,
          209,
          156,
          706,
          853,
          226,
          194,
          459,
          51,
          663,
          128,
          488,
          119,
          230,
          98,
          491,
          707,
          22,
          1680,
          6,
          384,
          697,
          190,
          430,
          156,
          2,
          121,
          80,
          17,
          567,
          10,
          36,
          2,
          181,
          55,
          165,
          401,
          2,
          366,
          39,
          399,
          7,
          0,
          54,
          17,
          287,
          115,
          18,
          141,
          3,
          86,
          40,
          30,
          36,
          22,
          2,
          0,
          14,
          57,
          30,
          514,
          111,
          107,
          94,
          0,
          81,
          29,
          21,
          0,
          6,
          284,
          23,
          296,
          114,
          47,
          0,
          12,
          12,
          48,
          9,
          418,
          10,
          136,
          10,
          26,
          4,
          37,
          5,
          0,
          2,
          54,
          39,
          3,
          0,
          32,
          0,
          46,
          71,
          3,
          18,
          108,
          31,
          10,
          7,
          0,
          27,
          95,
          9,
          15,
          34
         ],
         "xaxis": "x",
         "y": [
          4.3,
          12.5,
          12.7,
          7.4,
          13.5,
          18.7,
          14.1,
          12.1,
          9.5,
          17.7,
          9,
          9.5,
          8.3,
          20.5,
          19.4,
          21.9,
          12.3,
          18.2,
          16.4,
          14.3,
          13.7,
          11.7,
          14.2,
          13.9,
          14.4,
          11,
          11.7,
          9.9,
          4.8,
          16.1,
          11.7,
          14.2,
          13.2,
          12.7,
          14.5,
          15.6,
          16.4,
          13.6,
          7.2,
          30.4,
          9.7,
          7.4,
          10.3,
          13,
          15.4,
          18.4,
          7.4,
          14,
          15.2,
          10.3,
          0,
          2.7,
          33.3,
          16.7,
          18.1,
          7.9,
          12.7,
          0,
          14.8,
          12.4,
          12.2,
          41.7,
          null,
          16.5,
          0,
          8,
          9.2,
          6.3,
          14.3,
          0,
          9.8,
          12.3,
          27,
          10.2,
          5.6,
          0,
          null,
          18.1,
          20.3,
          20.4,
          13.1,
          7.9,
          12.2,
          14.8,
          0,
          9.8,
          8.1,
          5,
          25,
          30,
          12.6,
          17.2,
          8.5,
          9,
          5,
          null,
          7.7,
          8.9,
          32.8,
          8.4,
          7.5,
          0,
          17.2,
          8.4,
          6.5,
          0,
          15.3,
          0,
          null,
          0,
          14.7,
          6.5,
          0,
          0,
          13.7,
          0,
          7.9,
          16.1,
          0,
          6.7,
          19.7,
          19.4,
          18.6,
          15.5,
          50,
          12.9,
          5.7,
          8.4,
          0,
          4.1
         ],
         "yaxis": "y"
        }
       ],
       "layout": {
        "autosize": true,
        "legend": {
         "title": {
          "text": "Retained"
         },
         "tracegroupgap": 0
        },
        "margin": {
         "t": 60
        },
        "template": {
         "data": {
          "bar": [
           {
            "error_x": {
             "color": "#2a3f5f"
            },
            "error_y": {
             "color": "#2a3f5f"
            },
            "marker": {
             "line": {
              "color": "#E5ECF6",
              "width": 0.5
             },
             "pattern": {
              "fillmode": "overlay",
              "size": 10,
              "solidity": 0.2
             }
            },
            "type": "bar"
           }
          ],
          "barpolar": [
           {
            "marker": {
             "line": {
              "color": "#E5ECF6",
              "width": 0.5
             },
             "pattern": {
              "fillmode": "overlay",
              "size": 10,
              "solidity": 0.2
             }
            },
            "type": "barpolar"
           }
          ],
          "carpet": [
           {
            "aaxis": {
             "endlinecolor": "#2a3f5f",
             "gridcolor": "white",
             "linecolor": "white",
             "minorgridcolor": "white",
             "startlinecolor": "#2a3f5f"
            },
            "baxis": {
             "endlinecolor": "#2a3f5f",
             "gridcolor": "white",
             "linecolor": "white",
             "minorgridcolor": "white",
             "startlinecolor": "#2a3f5f"
            },
            "type": "carpet"
           }
          ],
          "choropleth": [
           {
            "colorbar": {
             "outlinewidth": 0,
             "ticks": ""
            },
            "type": "choropleth"
           }
          ],
          "contour": [
           {
            "colorbar": {
             "outlinewidth": 0,
             "ticks": ""
            },
            "colorscale": [
             [
              0,
              "#0d0887"
             ],
             [
              0.1111111111111111,
              "#46039f"
             ],
             [
              0.2222222222222222,
              "#7201a8"
             ],
             [
              0.3333333333333333,
              "#9c179e"
             ],
             [
              0.4444444444444444,
              "#bd3786"
             ],
             [
              0.5555555555555556,
              "#d8576b"
             ],
             [
              0.6666666666666666,
              "#ed7953"
             ],
             [
              0.7777777777777778,
              "#fb9f3a"
             ],
             [
              0.8888888888888888,
              "#fdca26"
             ],
             [
              1,
              "#f0f921"
             ]
            ],
            "type": "contour"
           }
          ],
          "contourcarpet": [
           {
            "colorbar": {
             "outlinewidth": 0,
             "ticks": ""
            },
            "type": "contourcarpet"
           }
          ],
          "heatmap": [
           {
            "colorbar": {
             "outlinewidth": 0,
             "ticks": ""
            },
            "colorscale": [
             [
              0,
              "#0d0887"
             ],
             [
              0.1111111111111111,
              "#46039f"
             ],
             [
              0.2222222222222222,
              "#7201a8"
             ],
             [
              0.3333333333333333,
              "#9c179e"
             ],
             [
              0.4444444444444444,
              "#bd3786"
             ],
             [
              0.5555555555555556,
              "#d8576b"
             ],
             [
              0.6666666666666666,
              "#ed7953"
             ],
             [
              0.7777777777777778,
              "#fb9f3a"
             ],
             [
              0.8888888888888888,
              "#fdca26"
             ],
             [
              1,
              "#f0f921"
             ]
            ],
            "type": "heatmap"
           }
          ],
          "heatmapgl": [
           {
            "colorbar": {
             "outlinewidth": 0,
             "ticks": ""
            },
            "colorscale": [
             [
              0,
              "#0d0887"
             ],
             [
              0.1111111111111111,
              "#46039f"
             ],
             [
              0.2222222222222222,
              "#7201a8"
             ],
             [
              0.3333333333333333,
              "#9c179e"
             ],
             [
              0.4444444444444444,
              "#bd3786"
             ],
             [
              0.5555555555555556,
              "#d8576b"
             ],
             [
              0.6666666666666666,
              "#ed7953"
             ],
             [
              0.7777777777777778,
              "#fb9f3a"
             ],
             [
              0.8888888888888888,
              "#fdca26"
             ],
             [
              1,
              "#f0f921"
             ]
            ],
            "type": "heatmapgl"
           }
          ],
          "histogram": [
           {
            "marker": {
             "pattern": {
              "fillmode": "overlay",
              "size": 10,
              "solidity": 0.2
             }
            },
            "type": "histogram"
           }
          ],
          "histogram2d": [
           {
            "colorbar": {
             "outlinewidth": 0,
             "ticks": ""
            },
            "colorscale": [
             [
              0,
              "#0d0887"
             ],
             [
              0.1111111111111111,
              "#46039f"
             ],
             [
              0.2222222222222222,
              "#7201a8"
             ],
             [
              0.3333333333333333,
              "#9c179e"
             ],
             [
              0.4444444444444444,
              "#bd3786"
             ],
             [
              0.5555555555555556,
              "#d8576b"
             ],
             [
              0.6666666666666666,
              "#ed7953"
             ],
             [
              0.7777777777777778,
              "#fb9f3a"
             ],
             [
              0.8888888888888888,
              "#fdca26"
             ],
             [
              1,
              "#f0f921"
             ]
            ],
            "type": "histogram2d"
           }
          ],
          "histogram2dcontour": [
           {
            "colorbar": {
             "outlinewidth": 0,
             "ticks": ""
            },
            "colorscale": [
             [
              0,
              "#0d0887"
             ],
             [
              0.1111111111111111,
              "#46039f"
             ],
             [
              0.2222222222222222,
              "#7201a8"
             ],
             [
              0.3333333333333333,
              "#9c179e"
             ],
             [
              0.4444444444444444,
              "#bd3786"
             ],
             [
              0.5555555555555556,
              "#d8576b"
             ],
             [
              0.6666666666666666,
              "#ed7953"
             ],
             [
              0.7777777777777778,
              "#fb9f3a"
             ],
             [
              0.8888888888888888,
              "#fdca26"
             ],
             [
              1,
              "#f0f921"
             ]
            ],
            "type": "histogram2dcontour"
           }
          ],
          "mesh3d": [
           {
            "colorbar": {
             "outlinewidth": 0,
             "ticks": ""
            },
            "type": "mesh3d"
           }
          ],
          "parcoords": [
           {
            "line": {
             "colorbar": {
              "outlinewidth": 0,
              "ticks": ""
             }
            },
            "type": "parcoords"
           }
          ],
          "pie": [
           {
            "automargin": true,
            "type": "pie"
           }
          ],
          "scatter": [
           {
            "fillpattern": {
             "fillmode": "overlay",
             "size": 10,
             "solidity": 0.2
            },
            "type": "scatter"
           }
          ],
          "scatter3d": [
           {
            "line": {
             "colorbar": {
              "outlinewidth": 0,
              "ticks": ""
             }
            },
            "marker": {
             "colorbar": {
              "outlinewidth": 0,
              "ticks": ""
             }
            },
            "type": "scatter3d"
           }
          ],
          "scattercarpet": [
           {
            "marker": {
             "colorbar": {
              "outlinewidth": 0,
              "ticks": ""
             }
            },
            "type": "scattercarpet"
           }
          ],
          "scattergeo": [
           {
            "marker": {
             "colorbar": {
              "outlinewidth": 0,
              "ticks": ""
             }
            },
            "type": "scattergeo"
           }
          ],
          "scattergl": [
           {
            "marker": {
             "colorbar": {
              "outlinewidth": 0,
              "ticks": ""
             }
            },
            "type": "scattergl"
           }
          ],
          "scattermapbox": [
           {
            "marker": {
             "colorbar": {
              "outlinewidth": 0,
              "ticks": ""
             }
            },
            "type": "scattermapbox"
           }
          ],
          "scatterpolar": [
           {
            "marker": {
             "colorbar": {
              "outlinewidth": 0,
              "ticks": ""
             }
            },
            "type": "scatterpolar"
           }
          ],
          "scatterpolargl": [
           {
            "marker": {
             "colorbar": {
              "outlinewidth": 0,
              "ticks": ""
             }
            },
            "type": "scatterpolargl"
           }
          ],
          "scatterternary": [
           {
            "marker": {
             "colorbar": {
              "outlinewidth": 0,
              "ticks": ""
             }
            },
            "type": "scatterternary"
           }
          ],
          "surface": [
           {
            "colorbar": {
             "outlinewidth": 0,
             "ticks": ""
            },
            "colorscale": [
             [
              0,
              "#0d0887"
             ],
             [
              0.1111111111111111,
              "#46039f"
             ],
             [
              0.2222222222222222,
              "#7201a8"
             ],
             [
              0.3333333333333333,
              "#9c179e"
             ],
             [
              0.4444444444444444,
              "#bd3786"
             ],
             [
              0.5555555555555556,
              "#d8576b"
             ],
             [
              0.6666666666666666,
              "#ed7953"
             ],
             [
              0.7777777777777778,
              "#fb9f3a"
             ],
             [
              0.8888888888888888,
              "#fdca26"
             ],
             [
              1,
              "#f0f921"
             ]
            ],
            "type": "surface"
           }
          ],
          "table": [
           {
            "cells": {
             "fill": {
              "color": "#EBF0F8"
             },
             "line": {
              "color": "white"
             }
            },
            "header": {
             "fill": {
              "color": "#C8D4E3"
             },
             "line": {
              "color": "white"
             }
            },
            "type": "table"
           }
          ]
         },
         "layout": {
          "annotationdefaults": {
           "arrowcolor": "#2a3f5f",
           "arrowhead": 0,
           "arrowwidth": 1
          },
          "autotypenumbers": "strict",
          "coloraxis": {
           "colorbar": {
            "outlinewidth": 0,
            "ticks": ""
           }
          },
          "colorscale": {
           "diverging": [
            [
             0,
             "#8e0152"
            ],
            [
             0.1,
             "#c51b7d"
            ],
            [
             0.2,
             "#de77ae"
            ],
            [
             0.3,
             "#f1b6da"
            ],
            [
             0.4,
             "#fde0ef"
            ],
            [
             0.5,
             "#f7f7f7"
            ],
            [
             0.6,
             "#e6f5d0"
            ],
            [
             0.7,
             "#b8e186"
            ],
            [
             0.8,
             "#7fbc41"
            ],
            [
             0.9,
             "#4d9221"
            ],
            [
             1,
             "#276419"
            ]
           ],
           "sequential": [
            [
             0,
             "#0d0887"
            ],
            [
             0.1111111111111111,
             "#46039f"
            ],
            [
             0.2222222222222222,
             "#7201a8"
            ],
            [
             0.3333333333333333,
             "#9c179e"
            ],
            [
             0.4444444444444444,
             "#bd3786"
            ],
            [
             0.5555555555555556,
             "#d8576b"
            ],
            [
             0.6666666666666666,
             "#ed7953"
            ],
            [
             0.7777777777777778,
             "#fb9f3a"
            ],
            [
             0.8888888888888888,
             "#fdca26"
            ],
            [
             1,
             "#f0f921"
            ]
           ],
           "sequentialminus": [
            [
             0,
             "#0d0887"
            ],
            [
             0.1111111111111111,
             "#46039f"
            ],
            [
             0.2222222222222222,
             "#7201a8"
            ],
            [
             0.3333333333333333,
             "#9c179e"
            ],
            [
             0.4444444444444444,
             "#bd3786"
            ],
            [
             0.5555555555555556,
             "#d8576b"
            ],
            [
             0.6666666666666666,
             "#ed7953"
            ],
            [
             0.7777777777777778,
             "#fb9f3a"
            ],
            [
             0.8888888888888888,
             "#fdca26"
            ],
            [
             1,
             "#f0f921"
            ]
           ]
          },
          "colorway": [
           "#636efa",
           "#EF553B",
           "#00cc96",
           "#ab63fa",
           "#FFA15A",
           "#19d3f3",
           "#FF6692",
           "#B6E880",
           "#FF97FF",
           "#FECB52"
          ],
          "font": {
           "color": "#2a3f5f"
          },
          "geo": {
           "bgcolor": "white",
           "lakecolor": "white",
           "landcolor": "#E5ECF6",
           "showlakes": true,
           "showland": true,
           "subunitcolor": "white"
          },
          "hoverlabel": {
           "align": "left"
          },
          "hovermode": "closest",
          "mapbox": {
           "style": "light"
          },
          "paper_bgcolor": "white",
          "plot_bgcolor": "#E5ECF6",
          "polar": {
           "angularaxis": {
            "gridcolor": "white",
            "linecolor": "white",
            "ticks": ""
           },
           "bgcolor": "#E5ECF6",
           "radialaxis": {
            "gridcolor": "white",
            "linecolor": "white",
            "ticks": ""
           }
          },
          "scene": {
           "xaxis": {
            "backgroundcolor": "#E5ECF6",
            "gridcolor": "white",
            "gridwidth": 2,
            "linecolor": "white",
            "showbackground": true,
            "ticks": "",
            "zerolinecolor": "white"
           },
           "yaxis": {
            "backgroundcolor": "#E5ECF6",
            "gridcolor": "white",
            "gridwidth": 2,
            "linecolor": "white",
            "showbackground": true,
            "ticks": "",
            "zerolinecolor": "white"
           },
           "zaxis": {
            "backgroundcolor": "#E5ECF6",
            "gridcolor": "white",
            "gridwidth": 2,
            "linecolor": "white",
            "showbackground": true,
            "ticks": "",
            "zerolinecolor": "white"
           }
          },
          "shapedefaults": {
           "line": {
            "color": "#2a3f5f"
           }
          },
          "ternary": {
           "aaxis": {
            "gridcolor": "white",
            "linecolor": "white",
            "ticks": ""
           },
           "baxis": {
            "gridcolor": "white",
            "linecolor": "white",
            "ticks": ""
           },
           "bgcolor": "#E5ECF6",
           "caxis": {
            "gridcolor": "white",
            "linecolor": "white",
            "ticks": ""
           }
          },
          "title": {
           "x": 0.05
          },
          "xaxis": {
           "automargin": true,
           "gridcolor": "white",
           "linecolor": "white",
           "ticks": "",
           "title": {
            "standoff": 15
           },
           "zerolinecolor": "white",
           "zerolinewidth": 2
          },
          "yaxis": {
           "automargin": true,
           "gridcolor": "white",
           "linecolor": "white",
           "ticks": "",
           "title": {
            "standoff": 15
           },
           "zerolinecolor": "white",
           "zerolinewidth": 2
          }
         }
        },
        "xaxis": {
         "anchor": "y",
         "autorange": true,
         "domain": [
          0,
          1
         ],
         "range": [
          -170.6953275529865,
          2988.6953275529863
         ],
         "title": {
          "text": "PTS"
         },
         "type": "linear"
        },
        "yaxis": {
         "anchor": "x",
         "autorange": true,
         "domain": [
          0,
          1
         ],
         "range": [
          -3.8713910761154855,
          53.871391076115486
         ],
         "title": {
          "text": "TOV_PERCENT"
         },
         "type": "linear"
        }
       }
      },
      "image/png": "[encoded data removed]",
      "text/html": [
       "<div>                            <div id=\"a7125bb4-4379-45e5-908c-f747307d4d73\" class=\"plotly-graph-div\" style=\"height:525px; width:100%;\"></div>            <script type=\"text/javascript\">                require([\"plotly\"], function(Plotly) {                    window.PLOTLYENV=window.PLOTLYENV || {};                                    if (document.getElementById(\"a7125bb4-4379-45e5-908c-f747307d4d73\")) {                    Plotly.newPlot(                        \"a7125bb4-4379-45e5-908c-f747307d4d73\",                        [{\"customdata\":[[\"['ATL']\"],[\"['PHX']\"],[\"['PHX', 'LAL']\"],[\"['LAL']\"],[\"['HOU']\"],[\"['CLE', 'UTA']\"],[\"['MIA']\"],[\"['WAS']\"],[\"['GSW']\"],[\"['CLE']\"],[\"['PHX', 'WAS']\"],[\"['CHA']\"],[\"['HOU']\"],[\"['WAS']\"],[\"['TOR', 'MEM']\"],[\"['MIL']\"],[\"['LAC']\"],[\"['SAS']\"],[\"['SAS']\"],[\"['PHI']\"],[\"['UTA']\"],[\"['LAL']\"],[\"['TOR']\"],[\"['HOU']\"],[\"['DEN']\"],[\"['DAL']\"],[\"['BOS']\"],[\"['MEM']\"],[\"['WAS']\"],[\"['PHI', 'SAC']\"],[\"['MEM']\"],[\"['IND']\"],[\"['SAS']\"],[\"['BKN']\"],[\"['PHI', 'LAC']\"],[\"['MEM', 'TOR']\"],[\"['MIN']\"],[\"['MIN']\"],[\"['OKC']\"],[\"['CLE']\"],[\"['LAC']\"],[\"['HOU']\"],[\"['ORL']\"],[\"['MIL']\"],[\"['CHI']\"],[\"['LAL']\"],[\"['PHX', 'MIA']\"],[\"['NYK', 'DAL']\"],[\"['TOR']\"],[\"['CHA']\"],[\"['CLE', 'MIL']\"],[\"['DAL', 'NYK']\"],[\"['LAC']\"],[\"['MIA']\"],[\"['DET']\"],[\"['HOU']\"],[\"['UTA']\"],[\"['GSW']\"],[\"['SAS']\"],[\"['MIA']\"],[\"['NOP']\"],[\"['MIN']\"],[\"['MIN']\"],[\"['BKN']\"],[\"['MIA', 'DET']\"],[\"['LAC']\"],[\"['TOR']\"],[\"['SAS']\"],[\"['MEM', 'LAC']\"],[\"['DAL', 'NYK', 'IND']\"],[\"['POR']\"],[\"['UTA']\"],[\"['POR']\"],[\"['BOS']\"],[\"['OKC']\"],[\"['BKN']\"],[\"['OKC']\"],[\"['MIL']\"],[\"['LAC', 'MEM']\"],[\"['MIA']\"],[\"['SAC']\"],[\"['DET']\"],[\"['NYK']\"],[\"['BOS']\"],[\"['NYK', 'POR']\"],[\"['CLE']\"],[\"['TOR', 'MEM']\"],[\"['CHA']\"],[\"['HOU', 'CLE']\"],[\"['CHA']\"],[\"['UTA', 'CLE', 'SAC']\"],[\"['WAS', 'OKC']\"],[\"['BOS']\"],[\"['TOR']\"],[\"['ORL']\"],[\"['SAC', 'HOU']\"],[\"['LAC', 'PHI']\"],[\"['DET']\"],[\"['IND']\"],[\"['MIN', 'PHI']\"],[\"['IND']\"],[\"['MEM']\"],[\"['SAS']\"],[\"['NOP']\"],[\"['DEN']\"],[\"['BOS']\"],[\"['NOP']\"],[\"['CHA']\"],[\"['WAS']\"],[\"['MIA']\"],[\"['POR']\"],[\"['ORL']\"],[\"['DET']\"],[\"['DAL', 'SAC']\"],[\"['WAS', 'HOU']\"],[\"['POR']\"],[\"['CHA']\"],[\"['MIL']\"],[\"['POR']\"],[\"['ATL', 'MEM']\"],[\"['ORL']\"],[\"['WAS']\"],[\"['UTA']\"],[\"['GSW']\"],[\"['MIL']\"],[\"['DEN']\"],[\"['LAC', 'PHI']\"],[\"['IND']\"],[\"['ATL']\"],[\"['CHI', 'MEM']\"],[\"['MEM', 'LAC']\"],[\"['BOS']\"],[\"['OKC']\"],[\"['ATL']\"],[\"['BKN']\"],[\"['SAC']\"],[\"['POR']\"],[\"['CHA']\"],[\"['OKC']\"],[\"['ATL']\"],[\"['MIN']\"],[\"['MIA']\"],[\"['LAL']\"],[\"['DEN']\"],[\"['HOU', 'ORL']\"],[\"['PHI', 'LAL']\"],[\"['WAS', 'CHI']\"],[\"['DET', 'LAL']\"],[\"['PHI', 'MIN']\"],[\"['UTA']\"],[\"['OKC']\"],[\"['NYK', 'DAL']\"],[\"['MIL']\"],[\"['NYK', 'DAL']\"],[\"['IND']\"],[\"['MIL']\"],[\"['HOU', 'PHI']\"],[\"['MIL', 'CLE']\"],[\"['NOP']\"],[\"['UTA']\"],[\"['POR']\"],[\"['PHX']\"],[\"['MIA']\"],[\"['BKN']\"],[\"['WAS']\"],[\"['CHI']\"],[\"['NOP']\"],[\"['CLE']\"],[\"['DEN']\"],[\"['BKN']\"],[\"['CLE', 'POR']\"],[\"['ORL']\"],[\"['DET']\"],[\"['OKC']\"],[\"['BKN']\"],[\"['IND']\"],[\"['ORL']\"],[\"['PHX']\"],[\"['BOS']\"],[\"['MEM']\"],[\"['DAL']\"],[\"['NYK']\"],[\"['NOP']\"],[\"['MIN']\"],[\"['CHI', 'WAS']\"],[\"['PHI']\"],[\"['UTA']\"],[\"['CHI']\"],[\"['PHI', 'MIN']\"],[\"['HOU']\"],[\"['SAC']\"],[\"['POR']\"],[\"['MEM']\"],[\"['DEN']\"],[\"['MIA', 'PHX']\"],[\"['NOP', 'MIL']\"],[\"['DET']\"],[\"['UTA']\"],[\"['PHI']\"],[\"['NOP']\"],[\"['NYK']\"],[\"['MIN']\"],[\"['ATL']\"],[\"['LAC']\"],[\"['TOR', 'MEM']\"],[\"['BKN']\"],[\"['MIN']\"],[\"['PHX']\"],[\"['MIA']\"],[\"['SAC']\"],[\"['WAS', 'PHX']\"],[\"['CHA']\"],[\"['PHX']\"],[\"['CHI', 'CLE']\"],[\"['IND']\"],[\"['DEN']\"],[\"['DET', 'NOP']\"],[\"['ORL']\"],[\"['CHI', 'WAS']\"],[\"['GSW']\"],[\"['MIL', 'NOP']\"],[\"['BKN']\"],[\"['BOS']\"],[\"['TOR']\"],[\"['WAS']\"],[\"['GSW']\"],[\"['MIL']\"],[\"['CHA']\"],[\"['MIA']\"],[\"['BKN']\"],[\"['CLE']\"],[\"['NYK']\"],[\"['UTA']\"],[\"['CLE']\"],[\"['CHI']\"],[\"['LAC', 'PHI']\"],[\"['TOR']\"],[\"['PHI']\"],[\"['PHX']\"],[\"['IND']\"],[\"['DEN']\"],[\"['HOU', 'CLE']\"],[\"['CHI']\"],[\"['DET', 'NYK']\"],[\"['SAC']\"],[\"['LAL']\"],[\"['GSW']\"],[\"['SAC', 'POR']\"],[\"['BKN']\"],[\"['MIL', 'DET']\"],[\"['DEN']\"],[\"['SAS']\"],[\"['ATL']\"],[\"['BOS']\"],[\"['ATL']\"],[\"['MIL']\"],[\"['NOP']\"],[\"['POR']\"],[\"['CLE', 'TOR']\"],[\"['UTA']\"],[\"['WAS']\"],[\"['TOR']\"],[\"['PHI']\"],[\"['OKC', 'CHI']\"],[\"['CLE']\"],[\"['SAC']\"],[\"['GSW']\"],[\"['LAC']\"],[\"['DEN']\"],[\"['LAL', 'LAC']\"],[\"['DAL']\"],[\"['TOR']\"],[\"['OKC']\"],[\"['CHI']\"],[\"['SAS']\"],[\"['HOU']\"],[\"['MIA']\"],[\"['CHI']\"],[\"['LAL']\"],[\"['CLE']\"],[\"['GSW']\"],[\"['PHI']\"],[\"['LAL']\"],[\"['PHX']\"],[\"['SAC']\"],[\"['BOS']\"],[\"['CHA']\"],[\"['ORL']\"],[\"['DAL', 'NYK']\"],[\"['NYK']\"],[\"['CHI']\"],[\"['UTA']\"],[\"['DET']\"],[\"['POR']\"],[\"['ATL']\"],[\"['SAC', 'DAL']\"],[\"['PHI']\"],[\"['TOR']\"],[\"['SAC']\"],[\"['BKN']\"],[\"['IND']\"],[\"['MIA']\"],[\"['OKC']\"],[\"['MIL']\"],[\"['HOU']\"],[\"['GSW']\"],[\"['UTA']\"],[\"['LAL']\"],[\"['BOS']\"],[\"['SAS']\"],[\"['NOP']\"],[\"['POR', 'SAC']\"],[\"['LAL']\"],[\"['LAC']\"],[\"['CHA']\"],[\"['BOS']\"],[\"['IND']\"],[\"['ORL']\"],[\"['SAC']\"],[\"['PHI']\"],[\"['LAC']\"],[\"['MEM']\"],[\"['WAS']\"],[\"['DEN']\"],[\"['NYK']\"],[\"['MIL']\"],[\"['NYK']\"],[\"['NYK']\"],[\"['TOR']\"],[\"['BOS']\"],[\"['DAL']\"],[\"['DEN']\"],[\"['UTA']\"],[\"['ORL']\"],[\"['MEM']\"],[\"['UTA']\"],[\"['DAL']\"],[\"['SAC']\"],[\"['ORL']\"],[\"['MIN']\"],[\"['PHX']\"],[\"['CHA']\"],[\"['DET']\"],[\"['WAS']\"],[\"['DAL']\"],[\"['MEM']\"],[\"['CHI']\"],[\"['OKC']\"],[\"['MIL']\"],[\"['GSW']\"],[\"['ORL']\"],[\"['LAC']\"],[\"['CHA']\"],[\"['IND']\"],[\"['ATL']\"],[\"['CHI']\"],[\"['MEM']\"],[\"['IND']\"],[\"['NYK']\"],[\"['PHX']\"],[\"['SAS']\"],[\"['PHI']\"],[\"['LAL', 'DET']\"],[\"['MIN']\"],[\"['LAC']\"],[\"['NYK']\"],[\"['CLE']\"],[\"['PHI', 'LAC']\"],[\"['POR']\"],[\"['PHI']\"],[\"['ATL']\"],[\"['DET']\"],[\"['POR']\"],[\"['NYK']\"],[\"['DEN']\"],[\"['LAL']\"],[\"['SAS']\"],[\"['NOP']\"],[\"['ATL']\"],[\"['PHX']\"],[\"['DAL']\"],[\"['BKN']\"],[\"['BOS']\"],[\"['BKN']\"],[\"['PHX']\"],[\"['BKN']\"],[\"['LAL']\"],[\"['HOU']\"],[\"['CHA']\"],[\"['OKC']\"],[\"['MIA']\"],[\"['DAL']\"],[\"['MEM']\"],[\"['LAL']\"],[\"['CHA']\"],[\"['DAL']\"],[\"['DEN']\"],[\"['ATL', 'SAC']\"],[\"['HOU']\"],[\"['SAS']\"]],\"hovertemplate\":\"\\u003cb\\u003e%{hovertext}\\u003c\\u002fb\\u003e\\u003cbr\\u003e\\u003cbr\\u003eRetained=Yes\\u003cbr\\u003ePTS=%{x}\\u003cbr\\u003eTOV_PERCENT=%{y}\\u003cbr\\u003eTEAMS_LIST=%{customdata[0]}\\u003cextra\\u003e\\u003c\\u002fextra\\u003e\",\"hovertext\":[\"Vince Carter\",\"Jamal Crawford\",\"Tyson Chandler\",\"LeBron James\",\"Carmelo Anthony\",\"Kyle Korver\",\"Udonis Haslem\",\"Dwight Howard\",\"Andre Iguodala\",\"JR Smith\",\"Trevor Ariza\",\"Marvin Williams\",\"Chris Paul\",\"Ian Mahinmi\",\"CJ Miles\",\"Ersan Ilyasova\",\"Lou Williams\",\"LaMarcus Aldridge\",\"Rudy Gay\",\"JJ Redick\",\"Thabo Sefolosha\",\"Rajon Rondo\",\"Kyle Lowry\",\"P.J. Tucker\",\"Paul Millsap\",\"J.J. Barea\",\"Al Horford\",\"Mike Conley\",\"Jeff Green\",\"Corey Brewer\",\"Joakim Noah\",\"Thaddeus Young\",\"Marco Belinelli\",\"Jared Dudley\",\"Wilson Chandler\",\"Marc Gasol\",\"Anthony Tolliver\",\"Derrick Rose\",\"Russell Westbrook\",\"Kevin Love\",\"Danilo Gallinari\",\"Eric Gordon\",\"D.J. Augustin\",\"Brook Lopez\",\"Robin Lopez\",\"JaVale McGee\",\"Ryan Anderson\",\"Courtney Lee\",\"Serge Ibaka\",\"Nicolas Batum\",\"George Hill\",\"DeAndre Jordan\",\"Luc Mbah a Moute\",\"Goran Dragic\",\"Blake Griffin\",\"James Harden\",\"Ricky Rubio\",\"Stephen Curry\",\"DeMar DeRozan\",\"James Johnson\",\"Jrue Holiday\",\"Jeff Teague\",\"Taj Gibson\",\"DeMarre Carroll\",\"Wayne Ellington\",\"Patrick Beverley\",\"Danny Green\",\"Patty Mills\",\"Garrett Temple\",\"Wesley Matthews\",\"Evan Turner\",\"Derrick Favors\",\"Al-Farouq Aminu\",\"Gordon Hayward\",\"Paul George\",\"Ed Davis\",\"Patrick Patterson\",\"Eric Bledsoe\",\"Avery Bradley\",\"Hassan Whiteside\",\"Nemanja Bjelica\",\"Ish Smith\",\"Lance Thomas\",\"Kyrie Irving\",\"Enes Freedom\",\"Tristan Thompson\",\"Jonas Valanciunas\",\"Bismack Biyombo\",\"Brandon Knight\",\"Kemba Walker\",\"Alec Burks\",\"Markieff Morris\",\"Marcus Morris Sr.\",\"Kawhi Leonard\",\"Nikola Vucevic\",\"Iman Shumpert\",\"Tobias Harris\",\"Reggie Jackson\",\"Cory Joseph\",\"Jimmy Butler\",\"Bojan Bogdanovic\",\"Chandler Parsons\",\"Davis Bertans\",\"E'Twaun Moore\",\"Isaiah Thomas\",\"Brad Wanamaker\",\"Anthony Davis\",\"Michael Kidd-Gilchrist\",\"Bradley Beal\",\"Dion Waiters\",\"Damian Lillard\",\"Terrence Ross\",\"Andre Drummond\",\"Harrison Barnes\",\"Austin Rivers\",\"Meyers Leonard\",\"Jeremy Lamb\",\"John Henson\",\"Maurice Harkless\",\"Tyler Zeller\",\"Evan Fournier\",\"Tomas Satoransky\",\"Jae Crowder\",\"Draymond Green\",\"Khris Middleton\",\"Will Barton\",\"Mike Scott\",\"Kyle O'Quinn\",\"Kent Bazemore\",\"Justin Holiday\",\"JaMychal Green\",\"Aron Baynes\",\"Nerlens Noel\",\"Alex Len\",\"Allen Crabbe\",\"Ben McLemore\",\"CJ McCollum\",\"Cody Zeller\",\"Dennis Schroder\",\"Dewayne Dedmon\",\"Gorgui Dieng\",\"Kelly Olynyk\",\"Kentavious Caldwell-Pope\",\"Mason Plumlee\",\"Michael Carter-Williams\",\"Mike Muscala\",\"Otto Porter Jr.\",\"Reggie Bullock Jr.\",\"Robert Covington\",\"Rudy Gobert\",\"Steven Adams\",\"Tim Hardaway Jr.\",\"Tony Snell\",\"Trey Burke\",\"Victor Oladipo\",\"Giannis Antetokounmpo\",\"James Ennis III\",\"Matthew Dellavedova\",\"Solomon Hill\",\"Raul Neto\",\"Seth Curry\",\"Troy Daniels\",\"Rodney McGruder\",\"Shabazz Napier\",\"Jordan McRae\",\"Zach LaVine\",\"Elfrid Payton\",\"Jordan Clarkson\",\"Gary Harris\",\"Spencer Dinwiddie\",\"Rodney Hood\",\"Khem Birch\",\"Glenn Robinson III\",\"Jerami Grant\",\"Joe Harris\",\"Doug McDermott\",\"Aaron Gordon\",\"T.J. Warren\",\"Marcus Smart\",\"Kyle Anderson\",\"Dwight Powell\",\"Noah Vonleh\",\"Julius Randle\",\"Andrew Wiggins\",\"Jabari Parker\",\"Joel Embiid\",\"Dante Exum\",\"JaKarr Sampson\",\"Dario Saric\",\"Clint Capela\",\"Bogdan Bogdanovic\",\"Jusuf Nurkic\",\"Bruno Caboclo\",\"Nikola Jokic\",\"Tyler Johnson\",\"Tim Frazier\",\"Langston Galloway\",\"Joe Ingles\",\"T.J. McConnell\",\"Jahlil Okafor\",\"Emmanuel Mudiay\",\"Tyus Jones\",\"Justin Anderson\",\"Montrezl Harrell\",\"Delon Wright\",\"D'Angelo Russell\",\"Karl-Anthony Towns\",\"Richaun Holmes\",\"Justise Winslow\",\"Willie Cauley-Stein\",\"Kelly Oubre Jr.\",\"Frank Kaminsky\",\"Devin Booker\",\"Cameron Payne\",\"Myles Turner\",\"Trey Lyles\",\"Stanley Johnson\",\"Jerian Grant\",\"Bobby Portis\",\"Kevon Looney\",\"Christian Wood\",\"Rondae Hollis-Jefferson\",\"Terry Rozier\",\"Norman Powell\",\"Chasson Randle\",\"Quinn Cook\",\"Pat Connaughton\",\"Willy Hernangomez\",\"Josh Richardson\",\"Treveon Graham\",\"Larry Nance Jr.\",\"Mario Hezonja\",\"Royce O'Neale\",\"Cedi Osman\",\"Cristiano Felicio\",\"Boban Marjanovic\",\"Malcolm Miller\",\"Ben Simmons\",\"Dragan Bender\",\"Domantas Sabonis\",\"Malik Beasley\",\"Marquese Chriss\",\"Kris Dunn\",\"Henry Ellenson\",\"Buddy Hield\",\"Brandon Ingram\",\"Damian Jones\",\"Skal Labissiere\",\"Caris LeVert\",\"Thon Maker\",\"Jamal Murray\",\"Jakob Poeltl\",\"Taurean Prince\",\"Jaylen Brown\",\"DeAndre' Bembry\",\"Malcolm Brogdon\",\"Cheick Diallo\",\"Jake Layman\",\"Patrick McCaw\",\"Georges Niang\",\"Gary Payton II\",\"Pascal Siakam\",\"Furkan Korkmaz\",\"Timothe Luwawu-Cabarrot\",\"Ante Zizic\",\"Yogi Ferrell\",\"Damion Lee\",\"Tyrone Wallace\",\"Juancho Hernangomez\",\"Ivica Zubac\",\"Dorian Finney-Smith\",\"Fred VanVleet\",\"Abdel Nader\",\"Ryan Arcidiacono\",\"Bryn Forbes\",\"Danuel House Jr.\",\"Derrick Jones Jr.\",\"Shaquille Harrison\",\"Alex Caruso\",\"David Nwaba\",\"Alfonzo McKinnie\",\"Markelle Fultz\",\"Lonzo Ball\",\"Josh Jackson\",\"De'Aaron Fox\",\"Jayson Tatum\",\"Malik Monk\",\"Jonathan Isaac\",\"Dennis Smith Jr.\",\"Frank Ntilikina\",\"Lauri Markkanen\",\"Donovan Mitchell\",\"Luke Kennard\",\"Zach Collins\",\"John Collins\",\"Justin Jackson\",\"Justin Patton\",\"OG Anunoby\",\"Harry Giles III\",\"Jarrett Allen\",\"T.J. Leaf\",\"Bam Adebayo\",\"Terrance Ferguson\",\"D.J. Wilson\",\"Isaiah Hartenstein\",\"Jordan Bell\",\"Tony Bradley\",\"Kyle Kuzma\",\"Semi Ojeleye\",\"Derrick White\",\"Frank Jackson\",\"Caleb Swanigan\",\"Josh Hart\",\"Johnathan Motley\",\"Dwayne Bacon\",\"PJ Dozier\",\"Edmond Sumner\",\"Wes Iwundu\",\"Frank Mason III\",\"Jonah Bolden\",\"Sindarius Thornwell\",\"Dillon Brooks\",\"Thomas Bryant\",\"Monte Morris\",\"Damyean Dotson\",\"Sterling Brown\",\"Luke Kornet\",\"Kadeem Allen\",\"Chris Boucher\",\"Daniel Theis\",\"Maxi Kleber\",\"Torrey Craig\",\"Naz Mitrou-Long\",\"Amile Jefferson\",\"Dusty Hannahs\",\"Grayson Allen\",\"Kostas Antetokounmpo\",\"Marvin Bagley III\",\"Mo Bamba\",\"Keita Bates-Diop\",\"Mikal Bridges\",\"Miles Bridges\",\"Bruce Brown\",\"Troy Brown Jr.\",\"Jalen Brunson\",\"Jevon Carter\",\"Wendell Carter Jr.\",\"Hamidou Diallo\",\"Donte DiVincenzo\",\"Jacob Evans\",\"Melvin Frazier Jr.\",\"Shai Gilgeous-Alexander\",\"Devonte' Graham\",\"Aaron Holiday\",\"Kevin Huerter\",\"Chandler Hutchison\",\"Jaren Jackson Jr.\",\"Alize Johnson\",\"Kevin Knox II\",\"De'Anthony Melton\",\"Chimezie Metu\",\"Shake Milton\",\"Svi Mykhailiuk\",\"Josh Okogie\",\"Jerome Robinson\",\"Mitchell Robinson\",\"Collin Sexton\",\"Landry Shamet\",\"Anfernee Simons\",\"Zhaire Smith\",\"Omari Spellman\",\"Khyri Thomas\",\"Gary Trent Jr.\",\"Allonzo Trier\",\"Jarred Vanderbilt\",\"Moritz Wagner\",\"Lonnie Walker IV\",\"Kenrich Williams\",\"Trae Young\",\"Deandre Ayton\",\"Luka Doncic\",\"Theo Pinson\",\"Robert Williams III\",\"Dzanan Musa\",\"Elie Okobo\",\"Rodions Kurucs\",\"Isaac Bonga\",\"Gary Clark\",\"J.P. Macura\",\"Deonte Burton\",\"Duncan Robinson\",\"Daryl Macon\",\"Yuta Watanabe\",\"Johnathan Williams\",\"Joe Chealey\",\"Ryan Broekhoff\",\"Brandon Goodwin\",\"BJ Johnson\",\"Chris Chiozza\",\"Drew Eubanks\"],\"legendgroup\":\"Yes\",\"marker\":{\"color\":\"#636efa\",\"symbol\":\"circle\"},\"mode\":\"markers\",\"name\":\"Yes\",\"orientation\":\"v\",\"showlegend\":true,\"x\":[562.0,508.0,173.0,1505.0,134.0,600.0,25.0,115.0,389.0,74.0,863.0,756.0,906.0,139.0,339.0,453.0,1498.0,1727.0,946.0,1372.0,190.0,424.0,926.0,601.0,883.0,415.0,925.0,1478.0,946.0,151.0,298.0,1024.0,829.0,287.0,305.0,1071.0,326.0,917.0,1675.0,374.0,1346.0,1103.0,948.0,1009.0,704.0,897.0,63.0,136.0,1112.0,699.0,458.0,758.0,20.0,494.0,1841.0,2818.0,864.0,1881.0,1635.0,428.0,1420.0,510.0,753.0,744.0,545.0,596.0,821.0,811.0,586.0,840.0,494.0,897.0,760.0,825.0,2159.0,472.0,229.0,1241.0,625.0,887.0,741.0,501.0,205.0,1596.0,915.0,470.0,763.0,236.0,266.0,2102.0,561.0,547.0,1046.0,1596.0,1665.0,465.0,1644.0,1260.0,537.0,1215.0,1454.0,187.0,606.0,633.0,97.0,140.0,1452.0,427.0,2099.0,527.0,2067.0,1223.0,1370.0,1265.0,618.0,357.0,1208.0,79.0,460.0,46.0,1226.0,709.0,951.0,486.0,1407.0,494.0,459.0,156.0,779.0,857.0,611.0,284.0,378.0,854.0,413.0,75.0,1468.0,497.0,1224.0,693.0,485.0,787.0,938.0,637.0,134.0,449.0,780.0,711.0,465.0,1284.0,1108.0,1174.0,444.0,631.0,675.0,1994.0,389.0,282.0,191.0,196.0,581.0,318.0,503.0,529.0,160.0,1492.0,446.0,1364.0,737.0,1143.0,805.0,240.0,198.0,1090.0,1041.0,564.0,1246.0,772.0,708.0,346.0,815.0,571.0,1565.0,1321.0,930.0,1761.0,288.0,80.0,858.0,1114.0,990.0,1125.0,282.0,1604.0,619.0,310.0,672.0,994.0,483.0,484.0,873.0,468.0,178.0,1361.0,653.0,1712.0,1880.0,572.0,830.0,965.0,1047.0,405.0,1700.0,250.0,984.0,546.0,454.0,250.0,710.0,500.0,172.0,527.0,708.0,516.0,271.0,509.0,421.0,421.0,1209.0,184.0,627.0,511.0,426.0,991.0,240.0,422.0,35.0,1337.0,230.0,1043.0,917.0,182.0,519.0,114.0,1695.0,950.0,130.0,67.0,547.0,323.0,1367.0,423.0,742.0,964.0,687.0,1001.0,387.0,541.0,74.0,235.0,11.0,1354.0,279.0,231.0,459.0,420.0,158.0,218.0,408.0,525.0,608.0,701.0,241.0,544.0,967.0,366.0,422.0,474.0,229.0,334.0,337.0,155.0,465.0,910.0,1399.0,1243.0,653.0,720.0,722.0,246.0,974.0,1829.0,613.0,512.0,1188.0,583.0,5.0,469.0,408.0,873.0,225.0,729.0,513.0,280.0,53.0,223.0,17.0,1308.0,186.0,663.0,495.0,43.0,525.0,102.0,316.0,19.0,66.0,339.0,195.0,207.0,62.0,135.0,758.0,851.0,779.0,372.0,322.0,189.0,93.0,374.0,485.0,430.0,16.0,27.0,8.0,211.0,2.0,923.0,292.0,151.0,684.0,597.0,319.0,248.0,678.0,172.0,455.0,190.0,131.0,40.0,15.0,889.0,217.0,294.0,727.0,229.0,798.0,13.0,963.0,250.0,51.0,87.0,133.0,570.0,112.0,485.0,1371.0,722.0,75.0,40.0,272.0,61.0,40.0,695.0,24.0,207.0,45.0,279.0,1549.0,1159.0,1526.0,81.0,81.0,19.0,304.0,534.0,19.0,148.0,6.0,82.0,50.0,29.0,39.0,157.0,2.0,167.0,23.0,23.0,6.0,41.0],\"xaxis\":\"x\",\"y\":[8.8,16.9,23.4,13.3,5.8,10.3,7.9,15.1,13.6,11.7,11.6,6.4,15.8,13.8,8.2,10.4,11.8,8.8,12.3,8.1,13.6,22.1,18.1,10.3,10.9,14.7,11.8,9.1,11.5,11.8,16.1,12.0,8.8,14.2,13.9,13.6,11.2,9.1,16.3,11.2,8.5,8.2,14.3,8.9,14.0,13.2,15.5,9.2,10.7,16.3,11.0,21.4,9.0,12.9,13.8,14.5,17.8,11.6,11.7,15.3,14.1,16.7,10.6,9.7,7.7,13.8,10.4,11.6,11.5,10.6,18.9,10.5,9.7,12.8,10.0,14.6,8.7,13.3,12.4,11.0,11.5,10.6,10.1,11.3,13.3,12.1,12.7,14.8,9.8,10.1,10.8,9.3,9.1,8.4,9.9,9.7,9.8,11.4,12.4,8.2,10.2,14.2,8.2,9.6,14.0,13.9,8.4,10.0,11.0,11.4,10.8,7.6,12.4,7.9,10.0,14.0,6.8,14.4,9.7,9.5,11.9,16.7,8.8,26.8,12.1,11.7,9.2,17.6,13.6,11.2,14.3,13.8,13.4,11.5,10.4,6.7,7.4,13.2,12.5,12.7,11.9,15.0,7.3,19.2,12.0,10.8,8.7,9.3,10.5,12.1,12.6,8.6,5.7,7.5,11.2,14.8,9.3,20.4,13.9,16.6,11.1,8.7,11.5,11.7,9.4,14.2,20.1,9.6,8.9,13.4,6.9,9.6,8.5,6.8,13.0,8.4,12.3,7.2,16.5,16.0,10.1,14.7,13.8,9.3,15.4,13.2,15.7,5.9,11.3,10.0,11.1,14.6,13.3,15.4,11.7,21.1,3.7,18.4,17.3,11.5,14.6,9.0,11.8,11.0,11.0,13.6,13.7,10.5,14.9,9.0,9.8,10.6,15.4,15.7,10.3,11.1,14.7,17.7,9.9,11.5,10.7,10.7,8.8,13.1,15.0,10.0,8.2,13.9,9.1,7.8,15.3,14.6,16.2,11.0,13.5,15.7,3.5,19.3,14.4,16.2,6.7,15.3,16.2,7.8,9.2,13.1,15.1,16.3,11.4,9.8,11.1,12.7,13.4,10.1,17.4,10.0,14.0,9.2,19.6,10.7,11.1,12.5,8.6,8.2,13.6,9.5,7.4,12.9,9.5,13.9,11.4,11.2,10.1,12.0,8.8,11.0,10.2,11.1,17.3,8.8,9.2,12.7,17.8,15.6,15.0,9.7,12.0,10.1,17.6,15.9,8.8,11.3,9.4,14.5,11.2,5.3,0.0,11.3,15.8,13.0,5.8,17.1,9.4,10.5,21.6,16.7,15.1,10.0,9.8,14.0,9.1,24.0,10.4,15.0,6.1,0.0,11.8,12.1,15.6,17.2,23.8,12.3,9.6,6.6,8.7,12.2,7.6,13.6,7.8,9.9,11.4,10.1,27.7,4.9,7.2,13.9,17.4,10.7,13.7,8.3,10.2,8.4,11.9,10.5,12.5,14.2,13.4,10.7,12.8,17.1,4.2,15.0,11.3,12.3,13.8,10.0,12.7,0.0,10.1,21.8,18.6,6.2,12.4,9.8,10.2,9.1,12.3,7.0,13.6,13.8,10.5,5.1,7.0,15.8,25.5,16.7,7.4,11.1,17.6,11.7,15.0,17.9,14.8,14.9,18.2,13.6,13.2,4.3,0.0,9.3,7.6,16.6,9.8,10.9,0.0,10.6,9.7,9.6,11.1,20.1],\"yaxis\":\"y\",\"type\":\"scatter\"},{\"customdata\":[[\"['DAL']\"],[\"['SAS', 'MIL']\"],[\"['CHA']\"],[\"['HOU']\"],[\"['MIA']\"],[\"['DET']\"],[\"['GSW']\"],[\"['DAL']\"],[\"['MIN']\"],[\"['GSW']\"],[\"['OKC']\"],[\"['CLE']\"],[\"['HOU']\"],[\"['PHI']\"],[\"['LAC']\"],[\"['DET']\"],[\"['GSW']\"],[\"['DEN']\"],[\"['WAS', 'MIL', 'NOP']\"],[\"['LAL']\"],[\"['LAL']\"],[\"['MIN']\"],[\"['SAC']\"],[\"['IND']\"],[\"['IND']\"],[\"['MEM']\"],[\"['SAS']\"],[\"['GSW']\"],[\"['TOR']\"],[\"['WAS']\"],[\"['NOP', 'WAS']\"],[\"['GSW']\"],[\"['UTA']\"],[\"['TOR', 'BOS', 'PHI']\"],[\"['SAS']\"],[\"['LAL']\"],[\"['ATL', 'TOR']\"],[\"['PHX']\"],[\"['GSW']\"],[\"['SAS']\"],[\"['BKN', 'HOU']\"],[\"['NOP', 'MIL']\"],[\"['MEM']\"],[\"['MEM', 'CHA']\"],[\"['DET']\"],[\"['HOU']\"],[\"['WAS', 'NYK']\"],[\"['ATL']\"],[\"['PHX']\"],[\"['NOP']\"],[\"['LAL']\"],[\"['MIN', 'HOU']\"],[\"['MEM']\"],[\"['PHX', 'MIN', 'MIL']\"],[\"['TOR']\"],[\"['OKC']\"],[\"['NOP']\"],[\"['DET']\"],[\"['ORL', 'PHI']\"],[\"['MIN']\"],[\"['POR', 'CLE']\"],[\"['PHX', 'TOR']\"],[\"['CLE']\"],[\"['MEM', 'CLE', 'NOP']\"],[\"['BOS']\"],[\"['CLE', 'WAS']\"],[\"['ORL']\"],[\"['BKN']\"],[\"['DAL']\"],[\"['ATL']\"],[\"['CHI']\"],[\"['MEM']\"],[\"['POR']\"],[\"['ATL']\"],[\"['PHI']\"],[\"['HOU']\"],[\"['CHI']\"],[\"['NYK', 'WAS']\"],[\"['ATL']\"],[\"['TOR']\"],[\"['MEM', 'CHI']\"],[\"['SAC']\"],[\"['ATL']\"],[\"['BOS']\"],[\"['WAS']\"],[\"['CLE']\"],[\"['TOR']\"],[\"['BKN', 'MIN']\"],[\"['IND']\"],[\"['PHX', 'OKC']\"],[\"['MEM']\"],[\"['DEN']\"],[\"['ATL', 'MEM']\"],[\"['CLE']\"],[\"['WAS']\"],[\"['CLE']\"],[\"['IND']\"],[\"['NYK']\"],[\"['LAC']\"],[\"['UTA']\"],[\"['CHI']\"],[\"['ORL']\"],[\"['ORL']\"],[\"['MIL']\"],[\"['NYK']\"],[\"['BKN']\"],[\"['CHI']\"],[\"['MIL']\"],[\"['PHX']\"],[\"['MIA']\"],[\"['DAL', 'PHX']\"],[\"['MIL']\"],[\"['HOU']\"],[\"['OKC']\"],[\"['CLE']\"],[\"['OKC']\"],[\"['GSW']\"],[\"['CHI']\"],[\"['LAC']\"],[\"['DEN']\"],[\"['ATL']\"],[\"['MIN']\"],[\"['PHX', 'MIA']\"],[\"['DEN']\"],[\"['DET']\"],[\"['LAL']\"],[\"['MIN']\"],[\"['PHI']\"],[\"['ATL']\"],[\"['NOP']\"]],\"hovertemplate\":\"\\u003cb\\u003e%{hovertext}\\u003c\\u002fb\\u003e\\u003cbr\\u003e\\u003cbr\\u003eRetained=No\\u003cbr\\u003ePTS=%{x}\\u003cbr\\u003eTOV_PERCENT=%{y}\\u003cbr\\u003eTEAMS_LIST=%{customdata[0]}\\u003cextra\\u003e\\u003c\\u002fextra\\u003e\",\"hovertext\":[\"Dirk Nowitzki\",\"Pau Gasol\",\"Tony Parker\",\"Nene\",\"Dwyane Wade\",\"Zaza Pachulia\",\"Shaun Livingston\",\"Devin Harris\",\"Luol Deng\",\"Andrew Bogut\",\"Raymond Felton\",\"Channing Frye\",\"Gerald Green\",\"Amir Johnson\",\"Marcin Gortat\",\"Jose Calderon\",\"Kevin Durant\",\"Nick Young\",\"Jason Smith\",\"Andre Ingram\",\"Michael Beasley\",\"Jerryd Bayless\",\"Kosta Koufos\",\"Tyreke Evans\",\"Darren Collison\",\"Omri Casspi\",\"Dante Cunningham\",\"Jonas Jerebko\",\"Jodie Meeks\",\"John Wall\",\"Wesley Johnson\",\"DeMarcus Cousins\",\"Ekpe Udoh\",\"Greg Monroe\",\"Quincy Pondexter\",\"Lance Stephenson\",\"Jeremy Lin\",\"Jimmer Fredette\",\"Klay Thompson\",\"Donatas Motiejunas\",\"Kenneth Faried\",\"Nikola Mirotic\",\"MarShon Brooks\",\"Shelvin Mack\",\"Jon Leuer\",\"Terrence Jones\",\"John Jenkins\",\"Miles Plumlee\",\"Quincy Acy\",\"Darius Miller\",\"Scott Machado\",\"James Nunnally\",\"DJ Stephens\",\"Isaiah Canaan\",\"Lorenzo Brown\",\"Alex Abrines\",\"Ian Clark\",\"Kalin Lucas\",\"Jonathon Simmons\",\"C.J. Williams\",\"Nik Stauskas\",\"Eric Moreland\",\"John Holland\",\"Andrew Harrison\",\"RJ Hunter\",\"Sam Dekker\",\"Jarell Martin\",\"Alan Williams\",\"Salah Mejri\",\"Jordan Sibert\",\"Walt Lemon Jr.\",\"Julian Washburn\",\"Wade Baldwin IV\",\"Deyonta Davis\",\"Demetrius Jackson\",\"Zhou Qi\",\"Tyler Ulis\",\"Ron Baker\",\"Daniel Hamilton\",\"Malachi Richardson\",\"Wayne Selden\",\"Troy Williams\",\"Alex Poythress\",\"Guerschon Yabusele\",\"Okaro White\",\"Jalen Jones\",\"Jordan Loyd\",\"Mitchell Creek\",\"Ike Anigbogu\",\"Jawun Evans\",\"Ivan Rabb\",\"Tyler Lydon\",\"Tyler Dorsey\",\"Jaron Blossomgame\",\"Devin Robinson\",\"Kobi Simmons\",\"Davon Reed\",\"Isaiah Hicks\",\"Milos Teodosic\",\"Tyler Cavanaugh\",\"Antonio Blakeney\",\"Troy Caupain\",\"Isaiah Briscoe\",\"Jaylen Morris\",\"Billy Garrett\",\"Tahjere McCall\",\"Rawle Alkins\",\"Trevon Duval\",\"George King\",\"Yante Maten\",\"Ray Spalding\",\"Bonzie Colson\",\"Vincent Edwards\",\"Donte Grantham\",\"Deng Adel\",\"Tyler Davis\",\"Marcus Derrickson\",\"Brandon Sampson\",\"Angel Delgado\",\"Thomas Welsh\",\"Jaylen Adams\",\"Jared Terrell\",\"Emanuel Terry\",\"DeVaughn Akoon-Purcell\",\"Zach Lofton\",\"Jemerrio Jones\",\"Cam Reynolds\",\"Haywood Highsmith\",\"Isaac Humphries\",\"Dairis Bertans\"],\"legendgroup\":\"No\",\"marker\":{\"color\":\"#EF553B\",\"symbol\":\"circle\"},\"mode\":\"markers\",\"name\":\"No\",\"orientation\":\"v\",\"showlegend\":true,\"x\":[373.0,118.0,530.0,151.0,1083.0,267.0,258.0,428.0,157.0,39.0,142.0,129.0,675.0,201.0,233.0,113.0,2027.0,9.0,65.0,0.0,181.0,209.0,156.0,706.0,853.0,226.0,194.0,459.0,51.0,663.0,128.0,488.0,119.0,230.0,98.0,491.0,707.0,22.0,1680.0,6.0,384.0,697.0,190.0,430.0,156.0,2.0,121.0,80.0,17.0,567.0,10.0,36.0,2.0,181.0,55.0,165.0,401.0,2.0,366.0,39.0,399.0,7.0,0.0,54.0,17.0,287.0,115.0,18.0,141.0,3.0,86.0,40.0,30.0,36.0,22.0,2.0,0.0,14.0,57.0,30.0,514.0,111.0,107.0,94.0,0.0,81.0,29.0,21.0,0.0,6.0,284.0,23.0,296.0,114.0,47.0,0.0,12.0,12.0,48.0,9.0,418.0,10.0,136.0,10.0,26.0,4.0,37.0,5.0,0.0,2.0,54.0,39.0,3.0,0.0,32.0,0.0,46.0,71.0,3.0,18.0,108.0,31.0,10.0,7.0,0.0,27.0,95.0,9.0,15.0,34.0],\"xaxis\":\"x\",\"y\":[4.3,12.5,12.7,7.4,13.5,18.7,14.1,12.1,9.5,17.7,9.0,9.5,8.3,20.5,19.4,21.9,12.3,18.2,16.4,14.3,13.7,11.7,14.2,13.9,14.4,11.0,11.7,9.9,4.8,16.1,11.7,14.2,13.2,12.7,14.5,15.6,16.4,13.6,7.2,30.4,9.7,7.4,10.3,13.0,15.4,18.4,7.4,14.0,15.2,10.3,0.0,2.7,33.3,16.7,18.1,7.9,12.7,0.0,14.8,12.4,12.2,41.7,null,16.5,0.0,8.0,9.2,6.3,14.3,0.0,9.8,12.3,27.0,10.2,5.6,0.0,null,18.1,20.3,20.4,13.1,7.9,12.2,14.8,0.0,9.8,8.1,5.0,25.0,30.0,12.6,17.2,8.5,9.0,5.0,null,7.7,8.9,32.8,8.4,7.5,0.0,17.2,8.4,6.5,0.0,15.3,0.0,null,0.0,14.7,6.5,0.0,0.0,13.7,0.0,7.9,16.1,0.0,6.7,19.7,19.4,18.6,15.5,50.0,12.9,5.7,8.4,0.0,4.1],\"yaxis\":\"y\",\"type\":\"scatter\"}],                        {\"template\":{\"data\":{\"histogram2dcontour\":[{\"type\":\"histogram2dcontour\",\"colorbar\":{\"outlinewidth\":0,\"ticks\":\"\"},\"colorscale\":[[0.0,\"#0d0887\"],[0.1111111111111111,\"#46039f\"],[0.2222222222222222,\"#7201a8\"],[0.3333333333333333,\"#9c179e\"],[0.4444444444444444,\"#bd3786\"],[0.5555555555555556,\"#d8576b\"],[0.6666666666666666,\"#ed7953\"],[0.7777777777777778,\"#fb9f3a\"],[0.8888888888888888,\"#fdca26\"],[1.0,\"#f0f921\"]]}],\"choropleth\":[{\"type\":\"choropleth\",\"colorbar\":{\"outlinewidth\":0,\"ticks\":\"\"}}],\"histogram2d\":[{\"type\":\"histogram2d\",\"colorbar\":{\"outlinewidth\":0,\"ticks\":\"\"},\"colorscale\":[[0.0,\"#0d0887\"],[0.1111111111111111,\"#46039f\"],[0.2222222222222222,\"#7201a8\"],[0.3333333333333333,\"#9c179e\"],[0.4444444444444444,\"#bd3786\"],[0.5555555555555556,\"#d8576b\"],[0.6666666666666666,\"#ed7953\"],[0.7777777777777778,\"#fb9f3a\"],[0.8888888888888888,\"#fdca26\"],[1.0,\"#f0f921\"]]}],\"heatmap\":[{\"type\":\"heatmap\",\"colorbar\":{\"outlinewidth\":0,\"ticks\":\"\"},\"colorscale\":[[0.0,\"#0d0887\"],[0.1111111111111111,\"#46039f\"],[0.2222222222222222,\"#7201a8\"],[0.3333333333333333,\"#9c179e\"],[0.4444444444444444,\"#bd3786\"],[0.5555555555555556,\"#d8576b\"],[0.6666666666666666,\"#ed7953\"],[0.7777777777777778,\"#fb9f3a\"],[0.8888888888888888,\"#fdca26\"],[1.0,\"#f0f921\"]]}],\"heatmapgl\":[{\"type\":\"heatmapgl\",\"colorbar\":{\"outlinewidth\":0,\"ticks\":\"\"},\"colorscale\":[[0.0,\"#0d0887\"],[0.1111111111111111,\"#46039f\"],[0.2222222222222222,\"#7201a8\"],[0.3333333333333333,\"#9c179e\"],[0.4444444444444444,\"#bd3786\"],[0.5555555555555556,\"#d8576b\"],[0.6666666666666666,\"#ed7953\"],[0.7777777777777778,\"#fb9f3a\"],[0.8888888888888888,\"#fdca26\"],[1.0,\"#f0f921\"]]}],\"contourcarpet\":[{\"type\":\"contourcarpet\",\"colorbar\":{\"outlinewidth\":0,\"ticks\":\"\"}}],\"contour\":[{\"type\":\"contour\",\"colorbar\":{\"outlinewidth\":0,\"ticks\":\"\"},\"colorscale\":[[0.0,\"#0d0887\"],[0.1111111111111111,\"#46039f\"],[0.2222222222222222,\"#7201a8\"],[0.3333333333333333,\"#9c179e\"],[0.4444444444444444,\"#bd3786\"],[0.5555555555555556,\"#d8576b\"],[0.6666666666666666,\"#ed7953\"],[0.7777777777777778,\"#fb9f3a\"],[0.8888888888888888,\"#fdca26\"],[1.0,\"#f0f921\"]]}],\"surface\":[{\"type\":\"surface\",\"colorbar\":{\"outlinewidth\":0,\"ticks\":\"\"},\"colorscale\":[[0.0,\"#0d0887\"],[0.1111111111111111,\"#46039f\"],[0.2222222222222222,\"#7201a8\"],[0.3333333333333333,\"#9c179e\"],[0.4444444444444444,\"#bd3786\"],[0.5555555555555556,\"#d8576b\"],[0.6666666666666666,\"#ed7953\"],[0.7777777777777778,\"#fb9f3a\"],[0.8888888888888888,\"#fdca26\"],[1.0,\"#f0f921\"]]}],\"mesh3d\":[{\"type\":\"mesh3d\",\"colorbar\":{\"outlinewidth\":0,\"ticks\":\"\"}}],\"scatter\":[{\"fillpattern\":{\"fillmode\":\"overlay\",\"size\":10,\"solidity\":0.2},\"type\":\"scatter\"}],\"parcoords\":[{\"type\":\"parcoords\",\"line\":{\"colorbar\":{\"outlinewidth\":0,\"ticks\":\"\"}}}],\"scatterpolargl\":[{\"type\":\"scatterpolargl\",\"marker\":{\"colorbar\":{\"outlinewidth\":0,\"ticks\":\"\"}}}],\"bar\":[{\"error_x\":{\"color\":\"#2a3f5f\"},\"error_y\":{\"color\":\"#2a3f5f\"},\"marker\":{\"line\":{\"color\":\"#E5ECF6\",\"width\":0.5},\"pattern\":{\"fillmode\":\"overlay\",\"size\":10,\"solidity\":0.2}},\"type\":\"bar\"}],\"scattergeo\":[{\"type\":\"scattergeo\",\"marker\":{\"colorbar\":{\"outlinewidth\":0,\"ticks\":\"\"}}}],\"scatterpolar\":[{\"type\":\"scatterpolar\",\"marker\":{\"colorbar\":{\"outlinewidth\":0,\"ticks\":\"\"}}}],\"histogram\":[{\"marker\":{\"pattern\":{\"fillmode\":\"overlay\",\"size\":10,\"solidity\":0.2}},\"type\":\"histogram\"}],\"scattergl\":[{\"type\":\"scattergl\",\"marker\":{\"colorbar\":{\"outlinewidth\":0,\"ticks\":\"\"}}}],\"scatter3d\":[{\"type\":\"scatter3d\",\"line\":{\"colorbar\":{\"outlinewidth\":0,\"ticks\":\"\"}},\"marker\":{\"colorbar\":{\"outlinewidth\":0,\"ticks\":\"\"}}}],\"scattermapbox\":[{\"type\":\"scattermapbox\",\"marker\":{\"colorbar\":{\"outlinewidth\":0,\"ticks\":\"\"}}}],\"scatterternary\":[{\"type\":\"scatterternary\",\"marker\":{\"colorbar\":{\"outlinewidth\":0,\"ticks\":\"\"}}}],\"scattercarpet\":[{\"type\":\"scattercarpet\",\"marker\":{\"colorbar\":{\"outlinewidth\":0,\"ticks\":\"\"}}}],\"carpet\":[{\"aaxis\":{\"endlinecolor\":\"#2a3f5f\",\"gridcolor\":\"white\",\"linecolor\":\"white\",\"minorgridcolor\":\"white\",\"startlinecolor\":\"#2a3f5f\"},\"baxis\":{\"endlinecolor\":\"#2a3f5f\",\"gridcolor\":\"white\",\"linecolor\":\"white\",\"minorgridcolor\":\"white\",\"startlinecolor\":\"#2a3f5f\"},\"type\":\"carpet\"}],\"table\":[{\"cells\":{\"fill\":{\"color\":\"#EBF0F8\"},\"line\":{\"color\":\"white\"}},\"header\":{\"fill\":{\"color\":\"#C8D4E3\"},\"line\":{\"color\":\"white\"}},\"type\":\"table\"}],\"barpolar\":[{\"marker\":{\"line\":{\"color\":\"#E5ECF6\",\"width\":0.5},\"pattern\":{\"fillmode\":\"overlay\",\"size\":10,\"solidity\":0.2}},\"type\":\"barpolar\"}],\"pie\":[{\"automargin\":true,\"type\":\"pie\"}]},\"layout\":{\"autotypenumbers\":\"strict\",\"colorway\":[\"#636efa\",\"#EF553B\",\"#00cc96\",\"#ab63fa\",\"#FFA15A\",\"#19d3f3\",\"#FF6692\",\"#B6E880\",\"#FF97FF\",\"#FECB52\"],\"font\":{\"color\":\"#2a3f5f\"},\"hovermode\":\"closest\",\"hoverlabel\":{\"align\":\"left\"},\"paper_bgcolor\":\"white\",\"plot_bgcolor\":\"#E5ECF6\",\"polar\":{\"bgcolor\":\"#E5ECF6\",\"angularaxis\":{\"gridcolor\":\"white\",\"linecolor\":\"white\",\"ticks\":\"\"},\"radialaxis\":{\"gridcolor\":\"white\",\"linecolor\":\"white\",\"ticks\":\"\"}},\"ternary\":{\"bgcolor\":\"#E5ECF6\",\"aaxis\":{\"gridcolor\":\"white\",\"linecolor\":\"white\",\"ticks\":\"\"},\"baxis\":{\"gridcolor\":\"white\",\"linecolor\":\"white\",\"ticks\":\"\"},\"caxis\":{\"gridcolor\":\"white\",\"linecolor\":\"white\",\"ticks\":\"\"}},\"coloraxis\":{\"colorbar\":{\"outlinewidth\":0,\"ticks\":\"\"}},\"colorscale\":{\"sequential\":[[0.0,\"#0d0887\"],[0.1111111111111111,\"#46039f\"],[0.2222222222222222,\"#7201a8\"],[0.3333333333333333,\"#9c179e\"],[0.4444444444444444,\"#bd3786\"],[0.5555555555555556,\"#d8576b\"],[0.6666666666666666,\"#ed7953\"],[0.7777777777777778,\"#fb9f3a\"],[0.8888888888888888,\"#fdca26\"],[1.0,\"#f0f921\"]],\"sequentialminus\":[[0.0,\"#0d0887\"],[0.1111111111111111,\"#46039f\"],[0.2222222222222222,\"#7201a8\"],[0.3333333333333333,\"#9c179e\"],[0.4444444444444444,\"#bd3786\"],[0.5555555555555556,\"#d8576b\"],[0.6666666666666666,\"#ed7953\"],[0.7777777777777778,\"#fb9f3a\"],[0.8888888888888888,\"#fdca26\"],[1.0,\"#f0f921\"]],\"diverging\":[[0,\"#8e0152\"],[0.1,\"#c51b7d\"],[0.2,\"#de77ae\"],[0.3,\"#f1b6da\"],[0.4,\"#fde0ef\"],[0.5,\"#f7f7f7\"],[0.6,\"#e6f5d0\"],[0.7,\"#b8e186\"],[0.8,\"#7fbc41\"],[0.9,\"#4d9221\"],[1,\"#276419\"]]},\"xaxis\":{\"gridcolor\":\"white\",\"linecolor\":\"white\",\"ticks\":\"\",\"title\":{\"standoff\":15},\"zerolinecolor\":\"white\",\"automargin\":true,\"zerolinewidth\":2},\"yaxis\":{\"gridcolor\":\"white\",\"linecolor\":\"white\",\"ticks\":\"\",\"title\":{\"standoff\":15},\"zerolinecolor\":\"white\",\"automargin\":true,\"zerolinewidth\":2},\"scene\":{\"xaxis\":{\"backgroundcolor\":\"#E5ECF6\",\"gridcolor\":\"white\",\"linecolor\":\"white\",\"showbackground\":true,\"ticks\":\"\",\"zerolinecolor\":\"white\",\"gridwidth\":2},\"yaxis\":{\"backgroundcolor\":\"#E5ECF6\",\"gridcolor\":\"white\",\"linecolor\":\"white\",\"showbackground\":true,\"ticks\":\"\",\"zerolinecolor\":\"white\",\"gridwidth\":2},\"zaxis\":{\"backgroundcolor\":\"#E5ECF6\",\"gridcolor\":\"white\",\"linecolor\":\"white\",\"showbackground\":true,\"ticks\":\"\",\"zerolinecolor\":\"white\",\"gridwidth\":2}},\"shapedefaults\":{\"line\":{\"color\":\"#2a3f5f\"}},\"annotationdefaults\":{\"arrowcolor\":\"#2a3f5f\",\"arrowhead\":0,\"arrowwidth\":1},\"geo\":{\"bgcolor\":\"white\",\"landcolor\":\"#E5ECF6\",\"subunitcolor\":\"white\",\"showland\":true,\"showlakes\":true,\"lakecolor\":\"white\"},\"title\":{\"x\":0.05},\"mapbox\":{\"style\":\"light\"}}},\"xaxis\":{\"anchor\":\"y\",\"domain\":[0.0,1.0],\"title\":{\"text\":\"PTS\"}},\"yaxis\":{\"anchor\":\"x\",\"domain\":[0.0,1.0],\"title\":{\"text\":\"TOV_PERCENT\"}},\"legend\":{\"title\":{\"text\":\"Retained\"},\"tracegroupgap\":0},\"margin\":{\"t\":60}},                        {\"responsive\": true}                    ).then(function(){\n",
       "                            \n",
       "var gd = document.getElementById('a7125bb4-4379-45e5-908c-f747307d4d73');\n",
       "var x = new MutationObserver(function (mutations, observer) {{\n",
       "        var display = window.getComputedStyle(gd).display;\n",
       "        if (!display || display === 'none') {{\n",
       "            console.log([gd, 'removed!']);\n",
       "            Plotly.purge(gd);\n",
       "            observer.disconnect();\n",
       "        }}\n",
       "}});\n",
       "\n",
       "// Listen for the removal of the full notebook cells\n",
       "var notebookContainer = gd.closest('#notebook-container');\n",
       "if (notebookContainer) {{\n",
       "    x.observe(notebookContainer, {childList: true});\n",
       "}}\n",
       "\n",
       "// Listen for the clearing of the current output cell\n",
       "var outputEl = gd.closest('.output');\n",
       "if (outputEl) {{\n",
       "    x.observe(outputEl, {childList: true});\n",
       "}}\n",
       "\n",
       "                        })                };                });            </script>        </div>"
      ]
     },
     "metadata": {},
     "output_type": "display_data"
    }
   ],
   "source": [
    "plotly_train(\"PTS\", \"TOV_PERCENT\", 2018)"
   ]
  },
  {
   "cell_type": "markdown",
   "id": "492fc653-6c54-4bc0-b03d-8cd0ea3c55c0",
   "metadata": {},
   "source": [
    "## Visualize model output\n",
    "\n",
    "Plots arbitrary predictors on x axis vs predicted probability on y axis for unseen test data (2016-2022)."
   ]
  },
  {
   "cell_type": "code",
   "execution_count": 110,
   "id": "a4a00dbf-ac3b-408e-b465-49d6709ce3e0",
   "metadata": {},
   "outputs": [],
   "source": [
    "#convert teams list from strings to actual lists\n",
    "df_scaled[\"TEAMS_AS_LIST\"] = df_scaled.apply(lambda x: eval(x.TEAMS_LIST), axis=1)\n",
    "#explode out teams\n",
    "df_scaled_exploded = df_scaled.explode(\"TEAMS_AS_LIST\", ignore_index=True)"
   ]
  },
  {
   "cell_type": "code",
   "execution_count": 111,
   "id": "4724252c-c228-4181-a445-07629130ec44",
   "metadata": {},
   "outputs": [],
   "source": [
    "def plot_bar_team_season(team, season):\n",
    "    df_temp = df_scaled_exploded.loc[(df_scaled_exploded.TEAMS_AS_LIST == team) & (df_scaled_exploded.SEASON_START == season)].copy()\n",
    "\n",
    "    df_temp[\"PROB\"] = model_cal.predict_proba(df_temp[features])[:, 1]\n",
    "\n",
    "    sns.barplot(data=df_temp.sort_values(\"PROB\"), x=\"NAME\", y=\"PROB\")\n",
    "    plt.xticks(rotation='vertical')\n",
    "\n",
    "    plt.show()\n",
    "\n",
    "    return None"
   ]
  },
  {
   "cell_type": "code",
   "execution_count": 112,
   "id": "d1fb2b02-4b33-47c8-9f91-ad90d963b2f6",
   "metadata": {},
   "outputs": [
    {
     "data": {
      "image/png": "[encoded data removed]",
      "text/plain": [
       "<Figure size 640x480 with 1 Axes>"
      ]
     },
     "metadata": {},
     "output_type": "display_data"
    }
   ],
   "source": [
    "plot_bar_team_season(\"GSW\", 2018)"
   ]
  },
  {
   "cell_type": "code",
   "execution_count": 113,
   "id": "e5014ef6-3890-479b-8905-bc3ced7343b2",
   "metadata": {},
   "outputs": [],
   "source": [
    "def plotly_bar(team, season):\n",
    "    df_temp = df_scaled_exploded.loc[(df_scaled_exploded.TEAMS_AS_LIST == team) & (df_scaled_exploded.SEASON_START == season)].copy()\n",
    "\n",
    "    df_temp[\"PROB\"] = model_cal.predict_proba(df_temp[features])[:, 1]\n",
    "    df_temp[\"PREDICT\"] = model.predict(df_temp[features])\n",
    "\n",
    "    df_temp[\"Retained\"] = \"No\"\n",
    "    df_temp.loc[df_temp.IN_LEAGUE_NEXT == 1, \"Retained\"] = \"Yes\"\n",
    "\n",
    "    df_temp[\"Predicted class\"] = \"No\"\n",
    "    df_temp.loc[df_temp.PREDICT == 1, \"Predicted class\"] = \"Yes\"\n",
    "\n",
    "    if(season != 2023):\n",
    "        fig = px.bar(df_temp, x=\"NAME\", y=\"PROB\", color=\"Retained\",\n",
    "                    color_discrete_map={\"Yes\":'cornflowerblue', \"No\":'lightcoral'})\n",
    "    else:\n",
    "        fig = px.bar(df_temp, x=\"NAME\", y=\"PROB\", color=\"Predicted class\",\n",
    "                    color_discrete_map={\"Yes\":'cornflowerblue', \"No\":'lightcoral'})\n",
    "\n",
    "    fig.show()\n",
    "\n",
    "    return None"
   ]
  },
  {
   "cell_type": "code",
   "execution_count": 114,
   "id": "8bfff19e-e6b2-4480-942b-99757fe2dd8c",
   "metadata": {},
   "outputs": [
    {
     "data": {
      "application/vnd.plotly.v1+json": {
       "config": {
        "plotlyServerURL": "https://plot.ly"
       },
       "data": [
        {
         "alignmentgroup": "True",
         "hovertemplate": "Predicted class=Yes<br>NAME=%{x}<br>PROB=%{y}<extra></extra>",
         "legendgroup": "Yes",
         "marker": {
          "color": "cornflowerblue",
          "pattern": {
           "shape": ""
          }
         },
         "name": "Yes",
         "offsetgroup": "Yes",
         "orientation": "v",
         "showlegend": true,
         "textposition": "auto",
         "type": "bar",
         "x": [
          "DeMar DeRozan",
          "Nikola Vucevic",
          "Andre Drummond",
          "Zach LaVine",
          "Alex Caruso",
          "Torrey Craig",
          "Jevon Carter",
          "Coby White",
          "Javonte Green",
          "Patrick Williams",
          "Ayo Dosunmu",
          "Dalen Terry",
          "Julian Phillips"
         ],
         "xaxis": "x",
         "y": [
          0.95884108543396,
          0.9711297154426575,
          0.9521546363830566,
          0.906174898147583,
          0.9657074213027954,
          0.8894127011299133,
          0.8611210584640503,
          0.9722723960876465,
          0.8421390652656555,
          0.9333733320236206,
          0.9722723960876465,
          0.945067822933197,
          0.9049892425537109
         ],
         "yaxis": "y"
        },
        {
         "alignmentgroup": "True",
         "hovertemplate": "Predicted class=No<br>NAME=%{x}<br>PROB=%{y}<extra></extra>",
         "legendgroup": "No",
         "marker": {
          "color": "lightcoral",
          "pattern": {
           "shape": ""
          }
         },
         "name": "No",
         "offsetgroup": "No",
         "orientation": "v",
         "showlegend": true,
         "textposition": "auto",
         "type": "bar",
         "x": [
          "Terry Taylor",
          "Henri Drell",
          "Adama Sanogo",
          "Andrew Funk",
          "Onuralp Bitim"
         ],
         "xaxis": "x",
         "y": [
          0.47934043407440186,
          0.3865419328212738,
          0.7069735527038574,
          0.3448525667190552,
          0.40594467520713806
         ],
         "yaxis": "y"
        }
       ],
       "layout": {
        "autosize": true,
        "barmode": "relative",
        "legend": {
         "title": {
          "text": "Predicted class"
         },
         "tracegroupgap": 0
        },
        "margin": {
         "t": 60
        },
        "template": {
         "data": {
          "bar": [
           {
            "error_x": {
             "color": "#2a3f5f"
            },
            "error_y": {
             "color": "#2a3f5f"
            },
            "marker": {
             "line": {
              "color": "#E5ECF6",
              "width": 0.5
             },
             "pattern": {
              "fillmode": "overlay",
              "size": 10,
              "solidity": 0.2
             }
            },
            "type": "bar"
           }
          ],
          "barpolar": [
           {
            "marker": {
             "line": {
              "color": "#E5ECF6",
              "width": 0.5
             },
             "pattern": {
              "fillmode": "overlay",
              "size": 10,
              "solidity": 0.2
             }
            },
            "type": "barpolar"
           }
          ],
          "carpet": [
           {
            "aaxis": {
             "endlinecolor": "#2a3f5f",
             "gridcolor": "white",
             "linecolor": "white",
             "minorgridcolor": "white",
             "startlinecolor": "#2a3f5f"
            },
            "baxis": {
             "endlinecolor": "#2a3f5f",
             "gridcolor": "white",
             "linecolor": "white",
             "minorgridcolor": "white",
             "startlinecolor": "#2a3f5f"
            },
            "type": "carpet"
           }
          ],
          "choropleth": [
           {
            "colorbar": {
             "outlinewidth": 0,
             "ticks": ""
            },
            "type": "choropleth"
           }
          ],
          "contour": [
           {
            "colorbar": {
             "outlinewidth": 0,
             "ticks": ""
            },
            "colorscale": [
             [
              0,
              "#0d0887"
             ],
             [
              0.1111111111111111,
              "#46039f"
             ],
             [
              0.2222222222222222,
              "#7201a8"
             ],
             [
              0.3333333333333333,
              "#9c179e"
             ],
             [
              0.4444444444444444,
              "#bd3786"
             ],
             [
              0.5555555555555556,
              "#d8576b"
             ],
             [
              0.6666666666666666,
              "#ed7953"
             ],
             [
              0.7777777777777778,
              "#fb9f3a"
             ],
             [
              0.8888888888888888,
              "#fdca26"
             ],
             [
              1,
              "#f0f921"
             ]
            ],
            "type": "contour"
           }
          ],
          "contourcarpet": [
           {
            "colorbar": {
             "outlinewidth": 0,
             "ticks": ""
            },
            "type": "contourcarpet"
           }
          ],
          "heatmap": [
           {
            "colorbar": {
             "outlinewidth": 0,
             "ticks": ""
            },
            "colorscale": [
             [
              0,
              "#0d0887"
             ],
             [
              0.1111111111111111,
              "#46039f"
             ],
             [
              0.2222222222222222,
              "#7201a8"
             ],
             [
              0.3333333333333333,
              "#9c179e"
             ],
             [
              0.4444444444444444,
              "#bd3786"
             ],
             [
              0.5555555555555556,
              "#d8576b"
             ],
             [
              0.6666666666666666,
              "#ed7953"
             ],
             [
              0.7777777777777778,
              "#fb9f3a"
             ],
             [
              0.8888888888888888,
              "#fdca26"
             ],
             [
              1,
              "#f0f921"
             ]
            ],
            "type": "heatmap"
           }
          ],
          "heatmapgl": [
           {
            "colorbar": {
             "outlinewidth": 0,
             "ticks": ""
            },
            "colorscale": [
             [
              0,
              "#0d0887"
             ],
             [
              0.1111111111111111,
              "#46039f"
             ],
             [
              0.2222222222222222,
              "#7201a8"
             ],
             [
              0.3333333333333333,
              "#9c179e"
             ],
             [
              0.4444444444444444,
              "#bd3786"
             ],
             [
              0.5555555555555556,
              "#d8576b"
             ],
             [
              0.6666666666666666,
              "#ed7953"
             ],
             [
              0.7777777777777778,
              "#fb9f3a"
             ],
             [
              0.8888888888888888,
              "#fdca26"
             ],
             [
              1,
              "#f0f921"
             ]
            ],
            "type": "heatmapgl"
           }
          ],
          "histogram": [
           {
            "marker": {
             "pattern": {
              "fillmode": "overlay",
              "size": 10,
              "solidity": 0.2
             }
            },
            "type": "histogram"
           }
          ],
          "histogram2d": [
           {
            "colorbar": {
             "outlinewidth": 0,
             "ticks": ""
            },
            "colorscale": [
             [
              0,
              "#0d0887"
             ],
             [
              0.1111111111111111,
              "#46039f"
             ],
             [
              0.2222222222222222,
              "#7201a8"
             ],
             [
              0.3333333333333333,
              "#9c179e"
             ],
             [
              0.4444444444444444,
              "#bd3786"
             ],
             [
              0.5555555555555556,
              "#d8576b"
             ],
             [
              0.6666666666666666,
              "#ed7953"
             ],
             [
              0.7777777777777778,
              "#fb9f3a"
             ],
             [
              0.8888888888888888,
              "#fdca26"
             ],
             [
              1,
              "#f0f921"
             ]
            ],
            "type": "histogram2d"
           }
          ],
          "histogram2dcontour": [
           {
            "colorbar": {
             "outlinewidth": 0,
             "ticks": ""
            },
            "colorscale": [
             [
              0,
              "#0d0887"
             ],
             [
              0.1111111111111111,
              "#46039f"
             ],
             [
              0.2222222222222222,
              "#7201a8"
             ],
             [
              0.3333333333333333,
              "#9c179e"
             ],
             [
              0.4444444444444444,
              "#bd3786"
             ],
             [
              0.5555555555555556,
              "#d8576b"
             ],
             [
              0.6666666666666666,
              "#ed7953"
             ],
             [
              0.7777777777777778,
              "#fb9f3a"
             ],
             [
              0.8888888888888888,
              "#fdca26"
             ],
             [
              1,
              "#f0f921"
             ]
            ],
            "type": "histogram2dcontour"
           }
          ],
          "mesh3d": [
           {
            "colorbar": {
             "outlinewidth": 0,
             "ticks": ""
            },
            "type": "mesh3d"
           }
          ],
          "parcoords": [
           {
            "line": {
             "colorbar": {
              "outlinewidth": 0,
              "ticks": ""
             }
            },
            "type": "parcoords"
           }
          ],
          "pie": [
           {
            "automargin": true,
            "type": "pie"
           }
          ],
          "scatter": [
           {
            "fillpattern": {
             "fillmode": "overlay",
             "size": 10,
             "solidity": 0.2
            },
            "type": "scatter"
           }
          ],
          "scatter3d": [
           {
            "line": {
             "colorbar": {
              "outlinewidth": 0,
              "ticks": ""
             }
            },
            "marker": {
             "colorbar": {
              "outlinewidth": 0,
              "ticks": ""
             }
            },
            "type": "scatter3d"
           }
          ],
          "scattercarpet": [
           {
            "marker": {
             "colorbar": {
              "outlinewidth": 0,
              "ticks": ""
             }
            },
            "type": "scattercarpet"
           }
          ],
          "scattergeo": [
           {
            "marker": {
             "colorbar": {
              "outlinewidth": 0,
              "ticks": ""
             }
            },
            "type": "scattergeo"
           }
          ],
          "scattergl": [
           {
            "marker": {
             "colorbar": {
              "outlinewidth": 0,
              "ticks": ""
             }
            },
            "type": "scattergl"
           }
          ],
          "scattermapbox": [
           {
            "marker": {
             "colorbar": {
              "outlinewidth": 0,
              "ticks": ""
             }
            },
            "type": "scattermapbox"
           }
          ],
          "scatterpolar": [
           {
            "marker": {
             "colorbar": {
              "outlinewidth": 0,
              "ticks": ""
             }
            },
            "type": "scatterpolar"
           }
          ],
          "scatterpolargl": [
           {
            "marker": {
             "colorbar": {
              "outlinewidth": 0,
              "ticks": ""
             }
            },
            "type": "scatterpolargl"
           }
          ],
          "scatterternary": [
           {
            "marker": {
             "colorbar": {
              "outlinewidth": 0,
              "ticks": ""
             }
            },
            "type": "scatterternary"
           }
          ],
          "surface": [
           {
            "colorbar": {
             "outlinewidth": 0,
             "ticks": ""
            },
            "colorscale": [
             [
              0,
              "#0d0887"
             ],
             [
              0.1111111111111111,
              "#46039f"
             ],
             [
              0.2222222222222222,
              "#7201a8"
             ],
             [
              0.3333333333333333,
              "#9c179e"
             ],
             [
              0.4444444444444444,
              "#bd3786"
             ],
             [
              0.5555555555555556,
              "#d8576b"
             ],
             [
              0.6666666666666666,
              "#ed7953"
             ],
             [
              0.7777777777777778,
              "#fb9f3a"
             ],
             [
              0.8888888888888888,
              "#fdca26"
             ],
             [
              1,
              "#f0f921"
             ]
            ],
            "type": "surface"
           }
          ],
          "table": [
           {
            "cells": {
             "fill": {
              "color": "#EBF0F8"
             },
             "line": {
              "color": "white"
             }
            },
            "header": {
             "fill": {
              "color": "#C8D4E3"
             },
             "line": {
              "color": "white"
             }
            },
            "type": "table"
           }
          ]
         },
         "layout": {
          "annotationdefaults": {
           "arrowcolor": "#2a3f5f",
           "arrowhead": 0,
           "arrowwidth": 1
          },
          "autotypenumbers": "strict",
          "coloraxis": {
           "colorbar": {
            "outlinewidth": 0,
            "ticks": ""
           }
          },
          "colorscale": {
           "diverging": [
            [
             0,
             "#8e0152"
            ],
            [
             0.1,
             "#c51b7d"
            ],
            [
             0.2,
             "#de77ae"
            ],
            [
             0.3,
             "#f1b6da"
            ],
            [
             0.4,
             "#fde0ef"
            ],
            [
             0.5,
             "#f7f7f7"
            ],
            [
             0.6,
             "#e6f5d0"
            ],
            [
             0.7,
             "#b8e186"
            ],
            [
             0.8,
             "#7fbc41"
            ],
            [
             0.9,
             "#4d9221"
            ],
            [
             1,
             "#276419"
            ]
           ],
           "sequential": [
            [
             0,
             "#0d0887"
            ],
            [
             0.1111111111111111,
             "#46039f"
            ],
            [
             0.2222222222222222,
             "#7201a8"
            ],
            [
             0.3333333333333333,
             "#9c179e"
            ],
            [
             0.4444444444444444,
             "#bd3786"
            ],
            [
             0.5555555555555556,
             "#d8576b"
            ],
            [
             0.6666666666666666,
             "#ed7953"
            ],
            [
             0.7777777777777778,
             "#fb9f3a"
            ],
            [
             0.8888888888888888,
             "#fdca26"
            ],
            [
             1,
             "#f0f921"
            ]
           ],
           "sequentialminus": [
            [
             0,
             "#0d0887"
            ],
            [
             0.1111111111111111,
             "#46039f"
            ],
            [
             0.2222222222222222,
             "#7201a8"
            ],
            [
             0.3333333333333333,
             "#9c179e"
            ],
            [
             0.4444444444444444,
             "#bd3786"
            ],
            [
             0.5555555555555556,
             "#d8576b"
            ],
            [
             0.6666666666666666,
             "#ed7953"
            ],
            [
             0.7777777777777778,
             "#fb9f3a"
            ],
            [
             0.8888888888888888,
             "#fdca26"
            ],
            [
             1,
             "#f0f921"
            ]
           ]
          },
          "colorway": [
           "#636efa",
           "#EF553B",
           "#00cc96",
           "#ab63fa",
           "#FFA15A",
           "#19d3f3",
           "#FF6692",
           "#B6E880",
           "#FF97FF",
           "#FECB52"
          ],
          "font": {
           "color": "#2a3f5f"
          },
          "geo": {
           "bgcolor": "white",
           "lakecolor": "white",
           "landcolor": "#E5ECF6",
           "showlakes": true,
           "showland": true,
           "subunitcolor": "white"
          },
          "hoverlabel": {
           "align": "left"
          },
          "hovermode": "closest",
          "mapbox": {
           "style": "light"
          },
          "paper_bgcolor": "white",
          "plot_bgcolor": "#E5ECF6",
          "polar": {
           "angularaxis": {
            "gridcolor": "white",
            "linecolor": "white",
            "ticks": ""
           },
           "bgcolor": "#E5ECF6",
           "radialaxis": {
            "gridcolor": "white",
            "linecolor": "white",
            "ticks": ""
           }
          },
          "scene": {
           "xaxis": {
            "backgroundcolor": "#E5ECF6",
            "gridcolor": "white",
            "gridwidth": 2,
            "linecolor": "white",
            "showbackground": true,
            "ticks": "",
            "zerolinecolor": "white"
           },
           "yaxis": {
            "backgroundcolor": "#E5ECF6",
            "gridcolor": "white",
            "gridwidth": 2,
            "linecolor": "white",
            "showbackground": true,
            "ticks": "",
            "zerolinecolor": "white"
           },
           "zaxis": {
            "backgroundcolor": "#E5ECF6",
            "gridcolor": "white",
            "gridwidth": 2,
            "linecolor": "white",
            "showbackground": true,
            "ticks": "",
            "zerolinecolor": "white"
           }
          },
          "shapedefaults": {
           "line": {
            "color": "#2a3f5f"
           }
          },
          "ternary": {
           "aaxis": {
            "gridcolor": "white",
            "linecolor": "white",
            "ticks": ""
           },
           "baxis": {
            "gridcolor": "white",
            "linecolor": "white",
            "ticks": ""
           },
           "bgcolor": "#E5ECF6",
           "caxis": {
            "gridcolor": "white",
            "linecolor": "white",
            "ticks": ""
           }
          },
          "title": {
           "x": 0.05
          },
          "xaxis": {
           "automargin": true,
           "gridcolor": "white",
           "linecolor": "white",
           "ticks": "",
           "title": {
            "standoff": 15
           },
           "zerolinecolor": "white",
           "zerolinewidth": 2
          },
          "yaxis": {
           "automargin": true,
           "gridcolor": "white",
           "linecolor": "white",
           "ticks": "",
           "title": {
            "standoff": 15
           },
           "zerolinecolor": "white",
           "zerolinewidth": 2
          }
         }
        },
        "xaxis": {
         "anchor": "y",
         "autorange": true,
         "domain": [
          0,
          1
         ],
         "range": [
          -0.5,
          17.5
         ],
         "title": {
          "text": "NAME"
         },
         "type": "category"
        },
        "yaxis": {
         "anchor": "x",
         "autorange": true,
         "domain": [
          0,
          1
         ],
         "range": [
          0,
          1.0234446274606805
         ],
         "title": {
          "text": "PROB"
         },
         "type": "linear"
        }
       }
      },
      "image/png": "[encoded data removed]",
      "text/html": [
       "<div>                            <div id=\"4648c593-dd1e-4158-9573-a2550eb0bbe8\" class=\"plotly-graph-div\" style=\"height:525px; width:100%;\"></div>            <script type=\"text/javascript\">                require([\"plotly\"], function(Plotly) {                    window.PLOTLYENV=window.PLOTLYENV || {};                                    if (document.getElementById(\"4648c593-dd1e-4158-9573-a2550eb0bbe8\")) {                    Plotly.newPlot(                        \"4648c593-dd1e-4158-9573-a2550eb0bbe8\",                        [{\"alignmentgroup\":\"True\",\"hovertemplate\":\"Predicted class=Yes\\u003cbr\\u003eNAME=%{x}\\u003cbr\\u003ePROB=%{y}\\u003cextra\\u003e\\u003c\\u002fextra\\u003e\",\"legendgroup\":\"Yes\",\"marker\":{\"color\":\"cornflowerblue\",\"pattern\":{\"shape\":\"\"}},\"name\":\"Yes\",\"offsetgroup\":\"Yes\",\"orientation\":\"v\",\"showlegend\":true,\"textposition\":\"auto\",\"x\":[\"DeMar DeRozan\",\"Nikola Vucevic\",\"Andre Drummond\",\"Zach LaVine\",\"Alex Caruso\",\"Torrey Craig\",\"Jevon Carter\",\"Coby White\",\"Javonte Green\",\"Patrick Williams\",\"Ayo Dosunmu\",\"Dalen Terry\",\"Julian Phillips\"],\"xaxis\":\"x\",\"y\":[0.95884108543396,0.9711297154426575,0.9521546363830566,0.906174898147583,0.9657074213027954,0.8894127011299133,0.8611210584640503,0.9722723960876465,0.8421390652656555,0.9333733320236206,0.9722723960876465,0.945067822933197,0.9049892425537109],\"yaxis\":\"y\",\"type\":\"bar\"},{\"alignmentgroup\":\"True\",\"hovertemplate\":\"Predicted class=No\\u003cbr\\u003eNAME=%{x}\\u003cbr\\u003ePROB=%{y}\\u003cextra\\u003e\\u003c\\u002fextra\\u003e\",\"legendgroup\":\"No\",\"marker\":{\"color\":\"lightcoral\",\"pattern\":{\"shape\":\"\"}},\"name\":\"No\",\"offsetgroup\":\"No\",\"orientation\":\"v\",\"showlegend\":true,\"textposition\":\"auto\",\"x\":[\"Terry Taylor\",\"Henri Drell\",\"Adama Sanogo\",\"Andrew Funk\",\"Onuralp Bitim\"],\"xaxis\":\"x\",\"y\":[0.47934043407440186,0.3865419328212738,0.7069735527038574,0.3448525667190552,0.40594467520713806],\"yaxis\":\"y\",\"type\":\"bar\"}],                        {\"template\":{\"data\":{\"histogram2dcontour\":[{\"type\":\"histogram2dcontour\",\"colorbar\":{\"outlinewidth\":0,\"ticks\":\"\"},\"colorscale\":[[0.0,\"#0d0887\"],[0.1111111111111111,\"#46039f\"],[0.2222222222222222,\"#7201a8\"],[0.3333333333333333,\"#9c179e\"],[0.4444444444444444,\"#bd3786\"],[0.5555555555555556,\"#d8576b\"],[0.6666666666666666,\"#ed7953\"],[0.7777777777777778,\"#fb9f3a\"],[0.8888888888888888,\"#fdca26\"],[1.0,\"#f0f921\"]]}],\"choropleth\":[{\"type\":\"choropleth\",\"colorbar\":{\"outlinewidth\":0,\"ticks\":\"\"}}],\"histogram2d\":[{\"type\":\"histogram2d\",\"colorbar\":{\"outlinewidth\":0,\"ticks\":\"\"},\"colorscale\":[[0.0,\"#0d0887\"],[0.1111111111111111,\"#46039f\"],[0.2222222222222222,\"#7201a8\"],[0.3333333333333333,\"#9c179e\"],[0.4444444444444444,\"#bd3786\"],[0.5555555555555556,\"#d8576b\"],[0.6666666666666666,\"#ed7953\"],[0.7777777777777778,\"#fb9f3a\"],[0.8888888888888888,\"#fdca26\"],[1.0,\"#f0f921\"]]}],\"heatmap\":[{\"type\":\"heatmap\",\"colorbar\":{\"outlinewidth\":0,\"ticks\":\"\"},\"colorscale\":[[0.0,\"#0d0887\"],[0.1111111111111111,\"#46039f\"],[0.2222222222222222,\"#7201a8\"],[0.3333333333333333,\"#9c179e\"],[0.4444444444444444,\"#bd3786\"],[0.5555555555555556,\"#d8576b\"],[0.6666666666666666,\"#ed7953\"],[0.7777777777777778,\"#fb9f3a\"],[0.8888888888888888,\"#fdca26\"],[1.0,\"#f0f921\"]]}],\"heatmapgl\":[{\"type\":\"heatmapgl\",\"colorbar\":{\"outlinewidth\":0,\"ticks\":\"\"},\"colorscale\":[[0.0,\"#0d0887\"],[0.1111111111111111,\"#46039f\"],[0.2222222222222222,\"#7201a8\"],[0.3333333333333333,\"#9c179e\"],[0.4444444444444444,\"#bd3786\"],[0.5555555555555556,\"#d8576b\"],[0.6666666666666666,\"#ed7953\"],[0.7777777777777778,\"#fb9f3a\"],[0.8888888888888888,\"#fdca26\"],[1.0,\"#f0f921\"]]}],\"contourcarpet\":[{\"type\":\"contourcarpet\",\"colorbar\":{\"outlinewidth\":0,\"ticks\":\"\"}}],\"contour\":[{\"type\":\"contour\",\"colorbar\":{\"outlinewidth\":0,\"ticks\":\"\"},\"colorscale\":[[0.0,\"#0d0887\"],[0.1111111111111111,\"#46039f\"],[0.2222222222222222,\"#7201a8\"],[0.3333333333333333,\"#9c179e\"],[0.4444444444444444,\"#bd3786\"],[0.5555555555555556,\"#d8576b\"],[0.6666666666666666,\"#ed7953\"],[0.7777777777777778,\"#fb9f3a\"],[0.8888888888888888,\"#fdca26\"],[1.0,\"#f0f921\"]]}],\"surface\":[{\"type\":\"surface\",\"colorbar\":{\"outlinewidth\":0,\"ticks\":\"\"},\"colorscale\":[[0.0,\"#0d0887\"],[0.1111111111111111,\"#46039f\"],[0.2222222222222222,\"#7201a8\"],[0.3333333333333333,\"#9c179e\"],[0.4444444444444444,\"#bd3786\"],[0.5555555555555556,\"#d8576b\"],[0.6666666666666666,\"#ed7953\"],[0.7777777777777778,\"#fb9f3a\"],[0.8888888888888888,\"#fdca26\"],[1.0,\"#f0f921\"]]}],\"mesh3d\":[{\"type\":\"mesh3d\",\"colorbar\":{\"outlinewidth\":0,\"ticks\":\"\"}}],\"scatter\":[{\"fillpattern\":{\"fillmode\":\"overlay\",\"size\":10,\"solidity\":0.2},\"type\":\"scatter\"}],\"parcoords\":[{\"type\":\"parcoords\",\"line\":{\"colorbar\":{\"outlinewidth\":0,\"ticks\":\"\"}}}],\"scatterpolargl\":[{\"type\":\"scatterpolargl\",\"marker\":{\"colorbar\":{\"outlinewidth\":0,\"ticks\":\"\"}}}],\"bar\":[{\"error_x\":{\"color\":\"#2a3f5f\"},\"error_y\":{\"color\":\"#2a3f5f\"},\"marker\":{\"line\":{\"color\":\"#E5ECF6\",\"width\":0.5},\"pattern\":{\"fillmode\":\"overlay\",\"size\":10,\"solidity\":0.2}},\"type\":\"bar\"}],\"scattergeo\":[{\"type\":\"scattergeo\",\"marker\":{\"colorbar\":{\"outlinewidth\":0,\"ticks\":\"\"}}}],\"scatterpolar\":[{\"type\":\"scatterpolar\",\"marker\":{\"colorbar\":{\"outlinewidth\":0,\"ticks\":\"\"}}}],\"histogram\":[{\"marker\":{\"pattern\":{\"fillmode\":\"overlay\",\"size\":10,\"solidity\":0.2}},\"type\":\"histogram\"}],\"scattergl\":[{\"type\":\"scattergl\",\"marker\":{\"colorbar\":{\"outlinewidth\":0,\"ticks\":\"\"}}}],\"scatter3d\":[{\"type\":\"scatter3d\",\"line\":{\"colorbar\":{\"outlinewidth\":0,\"ticks\":\"\"}},\"marker\":{\"colorbar\":{\"outlinewidth\":0,\"ticks\":\"\"}}}],\"scattermapbox\":[{\"type\":\"scattermapbox\",\"marker\":{\"colorbar\":{\"outlinewidth\":0,\"ticks\":\"\"}}}],\"scatterternary\":[{\"type\":\"scatterternary\",\"marker\":{\"colorbar\":{\"outlinewidth\":0,\"ticks\":\"\"}}}],\"scattercarpet\":[{\"type\":\"scattercarpet\",\"marker\":{\"colorbar\":{\"outlinewidth\":0,\"ticks\":\"\"}}}],\"carpet\":[{\"aaxis\":{\"endlinecolor\":\"#2a3f5f\",\"gridcolor\":\"white\",\"linecolor\":\"white\",\"minorgridcolor\":\"white\",\"startlinecolor\":\"#2a3f5f\"},\"baxis\":{\"endlinecolor\":\"#2a3f5f\",\"gridcolor\":\"white\",\"linecolor\":\"white\",\"minorgridcolor\":\"white\",\"startlinecolor\":\"#2a3f5f\"},\"type\":\"carpet\"}],\"table\":[{\"cells\":{\"fill\":{\"color\":\"#EBF0F8\"},\"line\":{\"color\":\"white\"}},\"header\":{\"fill\":{\"color\":\"#C8D4E3\"},\"line\":{\"color\":\"white\"}},\"type\":\"table\"}],\"barpolar\":[{\"marker\":{\"line\":{\"color\":\"#E5ECF6\",\"width\":0.5},\"pattern\":{\"fillmode\":\"overlay\",\"size\":10,\"solidity\":0.2}},\"type\":\"barpolar\"}],\"pie\":[{\"automargin\":true,\"type\":\"pie\"}]},\"layout\":{\"autotypenumbers\":\"strict\",\"colorway\":[\"#636efa\",\"#EF553B\",\"#00cc96\",\"#ab63fa\",\"#FFA15A\",\"#19d3f3\",\"#FF6692\",\"#B6E880\",\"#FF97FF\",\"#FECB52\"],\"font\":{\"color\":\"#2a3f5f\"},\"hovermode\":\"closest\",\"hoverlabel\":{\"align\":\"left\"},\"paper_bgcolor\":\"white\",\"plot_bgcolor\":\"#E5ECF6\",\"polar\":{\"bgcolor\":\"#E5ECF6\",\"angularaxis\":{\"gridcolor\":\"white\",\"linecolor\":\"white\",\"ticks\":\"\"},\"radialaxis\":{\"gridcolor\":\"white\",\"linecolor\":\"white\",\"ticks\":\"\"}},\"ternary\":{\"bgcolor\":\"#E5ECF6\",\"aaxis\":{\"gridcolor\":\"white\",\"linecolor\":\"white\",\"ticks\":\"\"},\"baxis\":{\"gridcolor\":\"white\",\"linecolor\":\"white\",\"ticks\":\"\"},\"caxis\":{\"gridcolor\":\"white\",\"linecolor\":\"white\",\"ticks\":\"\"}},\"coloraxis\":{\"colorbar\":{\"outlinewidth\":0,\"ticks\":\"\"}},\"colorscale\":{\"sequential\":[[0.0,\"#0d0887\"],[0.1111111111111111,\"#46039f\"],[0.2222222222222222,\"#7201a8\"],[0.3333333333333333,\"#9c179e\"],[0.4444444444444444,\"#bd3786\"],[0.5555555555555556,\"#d8576b\"],[0.6666666666666666,\"#ed7953\"],[0.7777777777777778,\"#fb9f3a\"],[0.8888888888888888,\"#fdca26\"],[1.0,\"#f0f921\"]],\"sequentialminus\":[[0.0,\"#0d0887\"],[0.1111111111111111,\"#46039f\"],[0.2222222222222222,\"#7201a8\"],[0.3333333333333333,\"#9c179e\"],[0.4444444444444444,\"#bd3786\"],[0.5555555555555556,\"#d8576b\"],[0.6666666666666666,\"#ed7953\"],[0.7777777777777778,\"#fb9f3a\"],[0.8888888888888888,\"#fdca26\"],[1.0,\"#f0f921\"]],\"diverging\":[[0,\"#8e0152\"],[0.1,\"#c51b7d\"],[0.2,\"#de77ae\"],[0.3,\"#f1b6da\"],[0.4,\"#fde0ef\"],[0.5,\"#f7f7f7\"],[0.6,\"#e6f5d0\"],[0.7,\"#b8e186\"],[0.8,\"#7fbc41\"],[0.9,\"#4d9221\"],[1,\"#276419\"]]},\"xaxis\":{\"gridcolor\":\"white\",\"linecolor\":\"white\",\"ticks\":\"\",\"title\":{\"standoff\":15},\"zerolinecolor\":\"white\",\"automargin\":true,\"zerolinewidth\":2},\"yaxis\":{\"gridcolor\":\"white\",\"linecolor\":\"white\",\"ticks\":\"\",\"title\":{\"standoff\":15},\"zerolinecolor\":\"white\",\"automargin\":true,\"zerolinewidth\":2},\"scene\":{\"xaxis\":{\"backgroundcolor\":\"#E5ECF6\",\"gridcolor\":\"white\",\"linecolor\":\"white\",\"showbackground\":true,\"ticks\":\"\",\"zerolinecolor\":\"white\",\"gridwidth\":2},\"yaxis\":{\"backgroundcolor\":\"#E5ECF6\",\"gridcolor\":\"white\",\"linecolor\":\"white\",\"showbackground\":true,\"ticks\":\"\",\"zerolinecolor\":\"white\",\"gridwidth\":2},\"zaxis\":{\"backgroundcolor\":\"#E5ECF6\",\"gridcolor\":\"white\",\"linecolor\":\"white\",\"showbackground\":true,\"ticks\":\"\",\"zerolinecolor\":\"white\",\"gridwidth\":2}},\"shapedefaults\":{\"line\":{\"color\":\"#2a3f5f\"}},\"annotationdefaults\":{\"arrowcolor\":\"#2a3f5f\",\"arrowhead\":0,\"arrowwidth\":1},\"geo\":{\"bgcolor\":\"white\",\"landcolor\":\"#E5ECF6\",\"subunitcolor\":\"white\",\"showland\":true,\"showlakes\":true,\"lakecolor\":\"white\"},\"title\":{\"x\":0.05},\"mapbox\":{\"style\":\"light\"}}},\"xaxis\":{\"anchor\":\"y\",\"domain\":[0.0,1.0],\"title\":{\"text\":\"NAME\"}},\"yaxis\":{\"anchor\":\"x\",\"domain\":[0.0,1.0],\"title\":{\"text\":\"PROB\"}},\"legend\":{\"title\":{\"text\":\"Predicted class\"},\"tracegroupgap\":0},\"margin\":{\"t\":60},\"barmode\":\"relative\"},                        {\"responsive\": true}                    ).then(function(){\n",
       "                            \n",
       "var gd = document.getElementById('4648c593-dd1e-4158-9573-a2550eb0bbe8');\n",
       "var x = new MutationObserver(function (mutations, observer) {{\n",
       "        var display = window.getComputedStyle(gd).display;\n",
       "        if (!display || display === 'none') {{\n",
       "            console.log([gd, 'removed!']);\n",
       "            Plotly.purge(gd);\n",
       "            observer.disconnect();\n",
       "        }}\n",
       "}});\n",
       "\n",
       "// Listen for the removal of the full notebook cells\n",
       "var notebookContainer = gd.closest('#notebook-container');\n",
       "if (notebookContainer) {{\n",
       "    x.observe(notebookContainer, {childList: true});\n",
       "}}\n",
       "\n",
       "// Listen for the clearing of the current output cell\n",
       "var outputEl = gd.closest('.output');\n",
       "if (outputEl) {{\n",
       "    x.observe(outputEl, {childList: true});\n",
       "}}\n",
       "\n",
       "                        })                };                });            </script>        </div>"
      ]
     },
     "metadata": {},
     "output_type": "display_data"
    }
   ],
   "source": [
    "plotly_bar(\"CHI\", 2023)"
   ]
  },
  {
   "cell_type": "code",
   "execution_count": null,
   "id": "35cf2877-1d4c-481a-80fd-0dc1087571b9",
   "metadata": {},
   "outputs": [],
   "source": []
  },
  {
   "cell_type": "code",
   "execution_count": null,
   "id": "df056452-17c5-48f5-8ae8-ba60e2ad37a9",
   "metadata": {},
   "outputs": [],
   "source": []
  }
 ],
 "metadata": {
  "kernelspec": {
   "display_name": "Python 3 (ipykernel)",
   "language": "python",
   "name": "python3"
  },
  "language_info": {
   "codemirror_mode": {
    "name": "ipython",
    "version": 3
   },
   "file_extension": ".py",
   "mimetype": "text/x-python",
   "name": "python",
   "nbconvert_exporter": "python",
   "pygments_lexer": "ipython3",
   "version": "3.12.5"
  }
 },
 "nbformat": 4,
 "nbformat_minor": 5
}
